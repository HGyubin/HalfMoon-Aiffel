{
 "cells": [
  {
   "cell_type": "markdown",
   "metadata": {},
   "source": [
    "## 손실함수"
   ]
  },
  {
   "cell_type": "markdown",
   "metadata": {},
   "source": [
    "- 손실함수는 학습이 진행되면서 해당 과정이 얼마나 잘 되고 있는지 나타내는 지표\n",
    "- 모델이 훈련되는 동안 최소화될 값으로 주어진 문제에 대한 성공 지표\n",
    "- 손실 함수에 따른 결과를 통해 파라미터를 조정하며 학습이 진행\n",
    "- 손실함수는 최적화 이론에서 최소화 하고자 하는 함수로 미분 가능한 함수를 사용\n",
    "- Keras에서 제공되는 주요 손실 함수\n",
    "    - 'sparse_categorical_crossentropy' : 클래스가 배타적 방식으로 구분, 즉 (0,1,2, ... ,9)와 같은 방식으로 구분되어 있을 때 사용\n",
    "    - 'categorical_cross_entropy' : 클래스가 One - hot encoding 방식으로 되어 있을 때 사용\n",
    "    - 'binary_crossentropy' : 이진 분류를 수행할 때 사용"
   ]
  },
  {
   "cell_type": "markdown",
   "metadata": {},
   "source": [
    "### 평균절대오차 (MAE)"
   ]
  },
  {
   "cell_type": "markdown",
   "metadata": {},
   "source": [
    "- 오차가 커져도 손실함수가 일정하게 증가\n",
    "- 이상치에 강건한(Robust) 특성\n",
    "- 데이터에서 [입력 - 정답]관계가 적절하지 않은 것이 있을 경우에, 좋은 추정을 하더라도 오차가 발생하는 경우가 발생함. 이상치에 해당하는 지점에서 손실함수의 최소값으로 가는 정도의 영향력이 크지 않은 특성을 가지고 있음\n",
    "- 일반적으로 회귀에 많이 사용하는 손실함수"
   ]
  },
  {
   "cell_type": "markdown",
   "metadata": {},
   "source": [
    "![MAE](./imgs/MAE.png)"
   ]
  },
  {
   "cell_type": "markdown",
   "metadata": {},
   "source": [
    "### 평균제곱오차 (MSE)"
   ]
  },
  {
   "cell_type": "markdown",
   "metadata": {},
   "source": [
    "- 가장 많이 사용되는 손실 함수 중 하나\n",
    "- 오차가 커질수록 손실함수가 빠르게 증가하는 특성\n",
    "- 정답과 예측한 값의 차이가 클수록 더 많은 페널티를 부여하는 형태로 동작\n",
    "- 일반적으로 회귀에 사용되는 손실함수"
   ]
  },
  {
   "cell_type": "markdown",
   "metadata": {},
   "source": [
    "![MSE](./imgs/MSE.png)"
   ]
  },
  {
   "cell_type": "markdown",
   "metadata": {},
   "source": [
    "### One - Hot Encoding"
   ]
  },
  {
   "cell_type": "markdown",
   "metadata": {},
   "source": [
    "- 범주형 변수를 표현할 때 사용\n",
    "- 가변수라고도 함\n",
    "- 정답인 레이블만 1이고 나머지는 0으로 처리하는 형태"
   ]
  },
  {
   "cell_type": "markdown",
   "metadata": {},
   "source": [
    "### 교차 엔트로피 오차 (Cross Entropy Error, CEE)"
   ]
  },
  {
   "cell_type": "markdown",
   "metadata": {},
   "source": [
    "- 이진 분류 또는 다중 클래스 분류에 주로 사용\n",
    "- 오차는 softmax 결과와 One-hot 사이의 출력 간 거리를 비교\n",
    "- 정답을 맞추면 오차가 0, 틀리면 그 차이가 클수록 오차가 무한히 커짐\n",
    "- 전체의 합은 1\n",
    "- 정답을 맞추면 0에 근접하게 됨"
   ]
  },
  {
   "cell_type": "markdown",
   "metadata": {},
   "source": [
    "![CEE](./imgs/CEE.png)"
   ]
  },
  {
   "cell_type": "markdown",
   "metadata": {},
   "source": [
    "## Optimizer"
   ]
  },
  {
   "cell_type": "markdown",
   "metadata": {},
   "source": [
    "- optimizer는 손실 함수를 기반으로 모델이 어떻게 업데이트되어야 하는지 결정\n",
    "- Keras에서 optimizer를 제공하고, 사용자가 특정 종류의 확률적 경사 하강법 지정 가능\n",
    "    - keras.optimizer.SGD() : 기본적인 확률적 경사 하강법\n",
    "    - keras.optimizer.Adam() : 자주 사용되는 optimizer\n",
    "- 보통 optimizer의 튜닝을 위해 따로 객체를생성하여 컴파일시에 포함"
   ]
  },
  {
   "cell_type": "markdown",
   "metadata": {},
   "source": [
    "### 경사하강법"
   ]
  },
  {
   "cell_type": "markdown",
   "metadata": {},
   "source": [
    "- 경사하강법은 미분과 기울기로 동작하며, 스칼라를 벡터로 미분\n",
    "- 변화가 있는 지점에서는 미분값이 존재하고, 변화가 없는 지점은 미분값이 0이 되며, 미분값이 클수록 변화량이 큼\n",
    "- 경사하강법의 과정은 한 스텝마다의 미분값에 따라 이동하는 방향을 결정, $f(x)$의 값이 변하지 않을때까지 반복"
   ]
  },
  {
   "cell_type": "markdown",
   "metadata": {},
   "source": [
    "![GD](./imgs/gd.png)"
   ]
  },
  {
   "cell_type": "markdown",
   "metadata": {},
   "source": [
    "### 볼록함수와 비볼록함수"
   ]
  },
  {
   "cell_type": "markdown",
   "metadata": {},
   "source": [
    "- 볼록함수는 어떤 지점에서 시작하더라도 최적값(손실함수가 최소로하는 점)에 도달 가능\n",
    "- 비볼록함수는 시작점 위치에 따라 다른 최적값에 도달할 수 있음"
   ]
  },
  {
   "cell_type": "markdown",
   "metadata": {},
   "source": [
    "![convex](./imgs/convex.png)"
   ]
  },
  {
   "cell_type": "markdown",
   "metadata": {},
   "source": [
    "### 안장점"
   ]
  },
  {
   "cell_type": "markdown",
   "metadata": {},
   "source": [
    "- 기울기가 0이지만 극값이 되지 않는 안장점이 존재\n",
    "- 경사하강법은 안장점에서 벗아니지 못하는 문제가 있음"
   ]
  },
  {
   "cell_type": "markdown",
   "metadata": {},
   "source": [
    "<img src=\"./imgs/saddle_point.png\" width=\"300\" height=\"250\"/>"
   ]
  },
  {
   "cell_type": "markdown",
   "metadata": {},
   "source": [
    "### 학습률"
   ]
  },
  {
   "cell_type": "markdown",
   "metadata": {},
   "source": [
    "- 모델을 학습하기 위해서는 적절한 학습률을 지정해야 최저점에 잘 도달할 수 있음\n",
    "- 학습률이 너무 크면 발산하고, 너무 작으면 학습이 오래 걸리거나 최저점에 도달하지 못하는 문제가 있음"
   ]
  },
  {
   "cell_type": "markdown",
   "metadata": {},
   "source": [
    "<img src=\"./imgs/lr.png\" width=\"700\" height=\"250\"/>"
   ]
  },
  {
   "cell_type": "markdown",
   "metadata": {},
   "source": [
    "### 지표"
   ]
  },
  {
   "cell_type": "markdown",
   "metadata": {},
   "source": [
    "- 딥러닝 학습 시 필요한 다양한 지표들을 지정 가능\n",
    "- 일반적으로 MAE나 Accuracy를 사용\n",
    "- Kears에서 사용되는 지표 종류 : [참고 링크](\"https://keras.io/ko/metrics\")"
   ]
  },
  {
   "cell_type": "markdown",
   "metadata": {},
   "source": [
    "## Training"
   ]
  },
  {
   "cell_type": "markdown",
   "metadata": {},
   "source": [
    "<img src=\"./imgs/structure.png\" width=\"600\" height=\"500\"/>"
   ]
  },
  {
   "cell_type": "markdown",
   "metadata": {},
   "source": [
    "### 데이터 생성"
   ]
  },
  {
   "cell_type": "code",
   "execution_count": 1,
   "metadata": {},
   "outputs": [
    {
     "data": {
      "image/png": "[encoded data removed]",
      "text/plain": [
       "<Figure size 432x288 with 1 Axes>"
      ]
     },
     "metadata": {
      "needs_background": "light"
     },
     "output_type": "display_data"
    }
   ],
   "source": [
    "import numpy as np\n",
    "import matplotlib.pyplot as plt\n",
    "from sklearn.datasets import make_regression\n",
    "\n",
    "X, y = make_regression(n_samples=200, n_features=1, \n",
    "                       bias=5.0, noise=5.0, random_state=123)\n",
    "y = np.expand_dims(y, axis=1)\n",
    "\n",
    "plt.scatter(X, y)\n",
    "plt.show()"
   ]
  },
  {
   "cell_type": "code",
   "execution_count": 2,
   "metadata": {},
   "outputs": [
    {
     "name": "stdout",
     "output_type": "stream",
     "text": [
      "(160, 1) (160, 1)\n",
      "(40, 1) (40, 1)\n"
     ]
    }
   ],
   "source": [
    "from sklearn.model_selection import train_test_split\n",
    "\n",
    "x_train, x_test, y_train, y_test = train_test_split(X, y, \n",
    "                                                    test_size=0.2, \n",
    "                                                    shuffle=True,\n",
    "                                                    \n",
    "                                                    random_state=123)\n",
    "\n",
    "print(x_train.shape, y_train.shape)\n",
    "print(x_test.shape, y_test.shape)"
   ]
  },
  {
   "cell_type": "markdown",
   "metadata": {},
   "source": [
    "### 모델 생성"
   ]
  },
  {
   "cell_type": "code",
   "execution_count": 3,
   "metadata": {},
   "outputs": [],
   "source": [
    "import tensorflow as tf\n",
    "from tensorflow import keras\n",
    "from tensorflow.keras import models, layers, optimizers, utils"
   ]
  },
  {
   "cell_type": "code",
   "execution_count": 4,
   "metadata": {},
   "outputs": [
    {
     "name": "stdout",
     "output_type": "stream",
     "text": [
      "Model: \"sequential\"\n",
      "_________________________________________________________________\n",
      " Layer (type)                Output Shape              Param #   \n",
      "=================================================================\n",
      " dense (Dense)               (None, 1)                 2         \n",
      "                                                                 \n",
      "=================================================================\n",
      "Total params: 2\n",
      "Trainable params: 2\n",
      "Non-trainable params: 0\n",
      "_________________________________________________________________\n"
     ]
    },
    {
     "name": "stderr",
     "output_type": "stream",
     "text": [
      "2023-07-25 13:14:28.669631: I tensorflow/core/platform/cpu_feature_guard.cc:193] This TensorFlow binary is optimized with oneAPI Deep Neural Network Library (oneDNN) to use the following CPU instructions in performance-critical operations:  SSE4.1 SSE4.2 AVX AVX2 FMA\n",
      "To enable them in other operations, rebuild TensorFlow with the appropriate compiler flags.\n"
     ]
    }
   ],
   "source": [
    "model = keras.Sequential()\n",
    "model.add(layers.Dense(1, activation='linear', input_shape=(1,)))\n",
    "model.summary()"
   ]
  },
  {
   "cell_type": "code",
   "execution_count": 5,
   "metadata": {},
   "outputs": [
    {
     "data": {
      "image/png": "[encoded data removed]",
      "text/plain": [
       "<IPython.core.display.Image object>"
      ]
     },
     "execution_count": 5,
     "metadata": {},
     "output_type": "execute_result"
    }
   ],
   "source": [
    "utils.plot_model(model, show_shapes=True)"
   ]
  },
  {
   "cell_type": "markdown",
   "metadata": {},
   "source": [
    "### 모델 학습"
   ]
  },
  {
   "cell_type": "code",
   "execution_count": 6,
   "metadata": {},
   "outputs": [
    {
     "name": "stdout",
     "output_type": "stream",
     "text": [
      "Epoch 1/40\n",
      "5/5 [==============================] - 0s 2ms/step - loss: 598.2895 - mae: 19.6970 - mse: 598.2895\n",
      "Epoch 2/40\n",
      "5/5 [==============================] - 0s 1ms/step - loss: 479.9678 - mae: 17.6023 - mse: 479.9678\n",
      "Epoch 3/40\n",
      "5/5 [==============================] - 0s 1ms/step - loss: 386.5411 - mae: 15.7867 - mse: 386.5411\n",
      "Epoch 4/40\n",
      "5/5 [==============================] - 0s 4ms/step - loss: 312.4131 - mae: 14.1685 - mse: 312.4131\n",
      "Epoch 5/40\n",
      "5/5 [==============================] - 0s 3ms/step - loss: 253.1559 - mae: 12.7916 - mse: 253.1559\n",
      "Epoch 6/40\n",
      "5/5 [==============================] - 0s 5ms/step - loss: 205.8406 - mae: 11.5194 - mse: 205.8406\n",
      "Epoch 7/40\n",
      "5/5 [==============================] - 0s 8ms/step - loss: 168.5339 - mae: 10.4351 - mse: 168.5339\n",
      "Epoch 8/40\n",
      "5/5 [==============================] - 0s 3ms/step - loss: 138.0548 - mae: 9.4453 - mse: 138.0548\n",
      "Epoch 9/40\n",
      "5/5 [==============================] - 0s 2ms/step - loss: 114.2460 - mae: 8.5532 - mse: 114.2460\n",
      "Epoch 10/40\n",
      "5/5 [==============================] - 0s 3ms/step - loss: 95.2402 - mae: 7.8010 - mse: 95.2402\n",
      "Epoch 11/40\n",
      "5/5 [==============================] - 0s 2ms/step - loss: 79.9469 - mae: 7.1632 - mse: 79.9469\n",
      "Epoch 12/40\n",
      "5/5 [==============================] - 0s 5ms/step - loss: 68.0120 - mae: 6.6226 - mse: 68.0120\n",
      "Epoch 13/40\n",
      "5/5 [==============================] - 0s 3ms/step - loss: 58.3100 - mae: 6.1221 - mse: 58.3100\n",
      "Epoch 14/40\n",
      "5/5 [==============================] - 0s 2ms/step - loss: 50.6213 - mae: 5.6924 - mse: 50.6213\n",
      "Epoch 15/40\n",
      "5/5 [==============================] - 0s 3ms/step - loss: 44.5290 - mae: 5.3107 - mse: 44.5290\n",
      "Epoch 16/40\n",
      "5/5 [==============================] - 0s 2ms/step - loss: 39.7353 - mae: 5.0125 - mse: 39.7353\n",
      "Epoch 17/40\n",
      "5/5 [==============================] - 0s 1ms/step - loss: 35.7990 - mae: 4.7375 - mse: 35.7990\n",
      "Epoch 18/40\n",
      "5/5 [==============================] - 0s 2ms/step - loss: 32.7006 - mae: 4.5159 - mse: 32.7006\n",
      "Epoch 19/40\n",
      "5/5 [==============================] - 0s 5ms/step - loss: 30.2686 - mae: 4.3240 - mse: 30.2686\n",
      "Epoch 20/40\n",
      "5/5 [==============================] - 0s 2ms/step - loss: 28.3034 - mae: 4.1783 - mse: 28.3034\n",
      "Epoch 21/40\n",
      "5/5 [==============================] - 0s 2ms/step - loss: 26.7382 - mae: 4.0475 - mse: 26.7382\n",
      "Epoch 22/40\n",
      "5/5 [==============================] - 0s 3ms/step - loss: 25.4934 - mae: 3.9630 - mse: 25.4934\n",
      "Epoch 23/40\n",
      "5/5 [==============================] - 0s 3ms/step - loss: 24.5196 - mae: 3.8886 - mse: 24.5196\n",
      "Epoch 24/40\n",
      "5/5 [==============================] - 0s 7ms/step - loss: 23.7168 - mae: 3.8283 - mse: 23.7168\n",
      "Epoch 25/40\n",
      "5/5 [==============================] - 0s 2ms/step - loss: 23.1108 - mae: 3.7920 - mse: 23.1108\n",
      "Epoch 26/40\n",
      "5/5 [==============================] - 0s 2ms/step - loss: 22.6001 - mae: 3.7557 - mse: 22.6001\n",
      "Epoch 27/40\n",
      "5/5 [==============================] - 0s 2ms/step - loss: 22.2015 - mae: 3.7208 - mse: 22.2015\n",
      "Epoch 28/40\n",
      "5/5 [==============================] - 0s 2ms/step - loss: 21.8626 - mae: 3.6971 - mse: 21.8626\n",
      "Epoch 29/40\n",
      "5/5 [==============================] - 0s 2ms/step - loss: 21.6530 - mae: 3.6835 - mse: 21.6530\n",
      "Epoch 30/40\n",
      "5/5 [==============================] - 0s 6ms/step - loss: 21.4212 - mae: 3.6625 - mse: 21.4212\n",
      "Epoch 31/40\n",
      "5/5 [==============================] - 0s 3ms/step - loss: 21.2629 - mae: 3.6502 - mse: 21.2629\n",
      "Epoch 32/40\n",
      "5/5 [==============================] - 0s 3ms/step - loss: 21.1196 - mae: 3.6393 - mse: 21.1196\n",
      "Epoch 33/40\n",
      "5/5 [==============================] - 0s 2ms/step - loss: 21.0168 - mae: 3.6309 - mse: 21.0168\n",
      "Epoch 34/40\n",
      "5/5 [==============================] - 0s 2ms/step - loss: 20.9331 - mae: 3.6253 - mse: 20.9331\n",
      "Epoch 35/40\n",
      "5/5 [==============================] - 0s 2ms/step - loss: 20.8960 - mae: 3.6216 - mse: 20.8960\n",
      "Epoch 36/40\n",
      "5/5 [==============================] - 0s 2ms/step - loss: 20.8214 - mae: 3.6149 - mse: 20.8214\n",
      "Epoch 37/40\n",
      "5/5 [==============================] - 0s 2ms/step - loss: 20.7923 - mae: 3.6108 - mse: 20.7923\n",
      "Epoch 38/40\n",
      "5/5 [==============================] - 0s 2ms/step - loss: 20.7401 - mae: 3.6083 - mse: 20.7401\n",
      "Epoch 39/40\n",
      "5/5 [==============================] - 0s 2ms/step - loss: 20.7379 - mae: 3.6070 - mse: 20.7379\n",
      "Epoch 40/40\n",
      "5/5 [==============================] - 0s 2ms/step - loss: 20.7028 - mae: 3.6021 - mse: 20.7028\n"
     ]
    }
   ],
   "source": [
    "optimizer = optimizers.SGD()\n",
    "model.compile(loss='mse', optimizer=optimizer, metrics=['mae', 'mse'])\n",
    "history = model.fit(x_train, y_train, epochs=40)"
   ]
  },
  {
   "cell_type": "code",
   "execution_count": 7,
   "metadata": {},
   "outputs": [
    {
     "data": {
      "image/png": "[encoded data removed]",
      "text/plain": [
       "<Figure size 432x288 with 1 Axes>"
      ]
     },
     "metadata": {
      "needs_background": "light"
     },
     "output_type": "display_data"
    }
   ],
   "source": [
    "plt.plot(history.history['mae'])\n",
    "plt.plot(history.history['mse'])\n",
    "plt.xlabel('Epoch')\n",
    "plt.legend(['mae', 'mse'])\n",
    "plt.show();"
   ]
  },
  {
   "cell_type": "markdown",
   "metadata": {},
   "source": [
    "### 모델 평가"
   ]
  },
  {
   "cell_type": "code",
   "execution_count": 8,
   "metadata": {},
   "outputs": [
    {
     "name": "stdout",
     "output_type": "stream",
     "text": [
      "2/2 [==============================] - 0s 17ms/step - loss: 21.9207 - mae: 3.9883 - mse: 21.9207\n"
     ]
    },
    {
     "data": {
      "text/plain": [
       "[21.9206600189209, 3.988262176513672, 21.9206600189209]"
      ]
     },
     "execution_count": 8,
     "metadata": {},
     "output_type": "execute_result"
    }
   ],
   "source": [
    "model.evaluate(x_test, y_test)"
   ]
  },
  {
   "cell_type": "markdown",
   "metadata": {},
   "source": [
    "### 모델 예측"
   ]
  },
  {
   "cell_type": "code",
   "execution_count": 9,
   "metadata": {},
   "outputs": [
    {
     "name": "stdout",
     "output_type": "stream",
     "text": [
      "7/7 [==============================] - 0s 2ms/step\n"
     ]
    },
    {
     "data": {
      "image/png": "[encoded data removed]",
      "text/plain": [
       "<Figure size 432x288 with 1 Axes>"
      ]
     },
     "metadata": {
      "needs_background": "light"
     },
     "output_type": "display_data"
    }
   ],
   "source": [
    "result = model.predict(X)\n",
    "\n",
    "plt.scatter(X, y)\n",
    "plt.plot(X, result, 'r')\n",
    "plt.show()"
   ]
  },
  {
   "cell_type": "code",
   "execution_count": 10,
   "metadata": {},
   "outputs": [
    {
     "data": {
      "text/plain": [
       "[<keras.layers.core.dense.Dense at 0x7f9750395400>]"
      ]
     },
     "execution_count": 10,
     "metadata": {},
     "output_type": "execute_result"
    }
   ],
   "source": [
    "model.layers"
   ]
  },
  {
   "cell_type": "code",
   "execution_count": 11,
   "metadata": {},
   "outputs": [
    {
     "name": "stdout",
     "output_type": "stream",
     "text": [
      "dense\n",
      "dense\n"
     ]
    }
   ],
   "source": [
    "layer = model.layers[0]\n",
    "print(layer.name)\n",
    "layer = model.get_layer('dense')\n",
    "print(layer.name)"
   ]
  },
  {
   "cell_type": "code",
   "execution_count": 12,
   "metadata": {},
   "outputs": [
    {
     "name": "stdout",
     "output_type": "stream",
     "text": [
      "[[22.90367]]\n",
      "[4.177095]\n"
     ]
    }
   ],
   "source": [
    "weights, biases = layer.get_weights()\n",
    "print(weights)\n",
    "print(biases)"
   ]
  },
  {
   "cell_type": "code",
   "execution_count": 13,
   "metadata": {},
   "outputs": [
    {
     "data": {
      "image/png": "[encoded data removed]",
      "text/plain": [
       "<Figure size 432x288 with 1 Axes>"
      ]
     },
     "metadata": {
      "needs_background": "light"
     },
     "output_type": "display_data"
    }
   ],
   "source": [
    "plt.scatter(X, y)\n",
    "plt.plot(X, np.array(weights * X + biases), 'r')\n",
    "plt.show()"
   ]
  },
  {
   "cell_type": "code",
   "execution_count": null,
   "metadata": {},
   "outputs": [],
   "source": []
  }
 ],
 "metadata": {
  "kernelspec": {
   "display_name": "yeardream",
   "language": "python",
   "name": "python3"
  },
  "language_info": {
   "codemirror_mode": {
    "name": "ipython",
    "version": 3
   },
   "file_extension": ".py",
   "mimetype": "text/x-python",
   "name": "python",
   "nbconvert_exporter": "python",
   "pygments_lexer": "ipython3",
   "version": "3.8.13"
  },
  "orig_nbformat": 4
 },
 "nbformat": 4,
 "nbformat_minor": 2
}
