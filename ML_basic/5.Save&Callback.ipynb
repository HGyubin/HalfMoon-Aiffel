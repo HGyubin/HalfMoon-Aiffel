{
 "cells": [
  {
   "cell_type": "markdown",
   "metadata": {},
   "source": [
    "# MNIST"
   ]
  },
  {
   "cell_type": "markdown",
   "metadata": {},
   "source": [
    "## Import"
   ]
  },
  {
   "cell_type": "code",
   "execution_count": 1,
   "metadata": {},
   "outputs": [],
   "source": [
    "import tensorflow as tf\n",
    "from tensorflow import keras\n",
    "from tensorflow.keras import models, layers, utils"
   ]
  },
  {
   "cell_type": "markdown",
   "metadata": {},
   "source": [
    "## Dataload and Processing"
   ]
  },
  {
   "cell_type": "code",
   "execution_count": 2,
   "metadata": {},
   "outputs": [
    {
     "name": "stdout",
     "output_type": "stream",
     "text": [
      "전체 학습 데이터: (60000, 28, 28)  레이블: (60000,)\n",
      "학습용 데이터: (42000, 28, 28)  레이블: (42000,)\n",
      "검증용 데이터: (18000, 28, 28)  레이블: (18000,)\n",
      "테스트용 데이터: (10000, 28, 28)  레이블: (10000,)\n"
     ]
    }
   ],
   "source": [
    "from tensorflow.keras.datasets import mnist\n",
    "from sklearn.model_selection import train_test_split\n",
    "\n",
    "(x_train_full, y_train_full), (x_test, y_test) = mnist.load_data(path='mnist.npz')\n",
    "\n",
    "x_train, x_val, y_train, y_val = train_test_split(x_train_full, y_train_full,\n",
    "                                                  test_size=0.3,\n",
    "                                                  random_state=123)\n",
    "\n",
    "print(f\"전체 학습 데이터: {x_train_full.shape}  레이블: {y_train_full.shape}\")\n",
    "print(f\"학습용 데이터: {x_train.shape}  레이블: {y_train.shape}\")\n",
    "print(f\"검증용 데이터: {x_val.shape}  레이블: {y_val.shape}\")\n",
    "print(f\"테스트용 데이터: {x_test.shape}  레이블: {y_test.shape}\")"
   ]
  },
  {
   "cell_type": "code",
   "execution_count": 3,
   "metadata": {},
   "outputs": [
    {
     "data": {
      "image/png": "[encoded data removed]",
      "text/plain": [
       "<Figure size 1080x216 with 6 Axes>"
      ]
     },
     "metadata": {
      "needs_background": "light"
     },
     "output_type": "display_data"
    }
   ],
   "source": [
    "import numpy as np\n",
    "import matplotlib.pyplot as plt\n",
    "plt.style.use(\"seaborn-white\")\n",
    "\n",
    "num_sample = 6\n",
    "random_idxs = np.random.randint(60000, size=num_sample)\n",
    "\n",
    "plt.figure(figsize=(15, 3))\n",
    "for i, idx in enumerate(random_idxs):\n",
    "  img = x_train_full[idx, :]\n",
    "  label = y_train_full[idx]\n",
    "\n",
    "  plt.subplot(1, len(random_idxs), i+1)\n",
    "  plt.axis('off')\n",
    "  plt.title(f'Index: {idx}, Label: {label}')\n",
    "  plt.imshow(img)"
   ]
  },
  {
   "cell_type": "code",
   "execution_count": 4,
   "metadata": {},
   "outputs": [
    {
     "name": "stdout",
     "output_type": "stream",
     "text": [
      "4\n"
     ]
    }
   ],
   "source": [
    "print(y_train[0])"
   ]
  },
  {
   "cell_type": "code",
   "execution_count": 6,
   "metadata": {},
   "outputs": [
    {
     "data": {
      "text/plain": [
       "<matplotlib.image.AxesImage at 0x7fea694895b0>"
      ]
     },
     "execution_count": 6,
     "metadata": {},
     "output_type": "execute_result"
    },
    {
     "data": {
      "image/png": "[encoded data removed]",
      "text/plain": [
       "<Figure size 432x288 with 1 Axes>"
      ]
     },
     "metadata": {
      "needs_background": "light"
     },
     "output_type": "display_data"
    }
   ],
   "source": [
    "img = x_train[0, :]\n",
    "plt.axis('off')\n",
    "plt.imshow(img)"
   ]
  },
  {
   "cell_type": "code",
   "execution_count": 5,
   "metadata": {},
   "outputs": [
    {
     "name": "stdout",
     "output_type": "stream",
     "text": [
      "[[  0   0   0   0   0   0   0   0   0   0   0   0   0   0   0   0   0   0\n",
      "    0   0   0   0   0   0   0   0   0   0]\n",
      " [  0   0   0   0   0   0   0   0   0   0   0   0   0   0   0   0   0   0\n",
      "    0   0   0   0   0   0   0   0   0   0]\n",
      " [  0   0   0   0   0   0   0   0   0   0   0   0   0   0   0   0   0   0\n",
      "    0   0   0   0   0   0   0   0   0   0]\n",
      " [  0   0   0   0   0   0   0   0   0   0   0   0   0   0   0   0   0   0\n",
      "    0   0   0   0   0   0   0   0   0   0]\n",
      " [  0   0   0   0   0   0   0   0   0   0   0   0   0   0   0   0 184 236\n",
      "    0   0   0   0   0   0   0   0   0   0]\n",
      " [  0   0   0   0   0   0   0   0   0   0   0   0   0   0   0  13 235 240\n",
      "   11   0   0   0   0   0   0   0   0   0]\n",
      " [  0   0   0   0   0   0   0   0   0   0   0   0   0   0   0  73 244 144\n",
      "   59   0   0   0   0   0   0   0   0   0]\n",
      " [  0   0   0   0   0   0   0   0   0   0   0   0   0   0   0 104 186   6\n",
      "   32   0   0   0   0   0   0   0   0   0]\n",
      " [  0   0   0   0   0   0   0   0   0  33  21   0   0   0   0 155 155   0\n",
      "    0   0   0   0   0   0   0   0   0   0]\n",
      " [  0   0   0   0   0   0   0   0   0 198  84   0   0   0   6 205 103   0\n",
      "    0   0   0   0   0   0   0   0   0   0]\n",
      " [  0   0   0   0   0   0   0   0  21 245  73   0   0   0  30 254 103   0\n",
      "    0   0   0   0   0   0   0   0   0   0]\n",
      " [  0   0   0   0   0   0   0   0  49 182   7   0   0   0  30 254 103   0\n",
      "    0   0   0   0   0   0   0   0   0   0]\n",
      " [  0   0   0   0   0   0   0   0  98 144   0   0   0   0  30 254  94   0\n",
      "    0   0   0   0   0   0   0   0   0   0]\n",
      " [  0   0   0   0   0   0   0   0  90 144   0   0   0   0  30 254  63   0\n",
      "    0   0   0   0   0   0   0   0   0   0]\n",
      " [  0   0   0   0   0   0   0   0 114 152   0   0   0   0  53 254 103   0\n",
      "    0   0   0   0   0   0   0   0   0   0]\n",
      " [  0   0   0   0   0   0   0   0  58 237  42   0   0   0  78 254  97   0\n",
      "    2  28   0   0   0   0   0   0   0   0]\n",
      " [  0   0   0   0   0   0   0   0  20 239 228 110  30  15 106 254 107  33\n",
      "  157  87   0   0   0   0   0   0   0   0]\n",
      " [  0   0   0   0   0   0   0   0   0 101 243 254 254 239 249 254 254 253\n",
      "  154   0   0   0   0   0   0   0   0   0]\n",
      " [  0   0   0   0   0   0   0   0   0   0  58 168 232 249 254 254 200  85\n",
      "    0   0   0   0   0   0   0   0   0   0]\n",
      " [  0   0   0   0   0   0   0   0   0   0   0   0   0  31 125 254  51   0\n",
      "    0   0   0   0   0   0   0   0   0   0]\n",
      " [  0   0   0   0   0   0   0   0   0   0   0   0   0   0  75 254  39   0\n",
      "    0   0   0   0   0   0   0   0   0   0]\n",
      " [  0   0   0   0   0   0   0   0   0   0   0   0   0   0  30 254  90   0\n",
      "    0   0   0   0   0   0   0   0   0   0]\n",
      " [  0   0   0   0   0   0   0   0   0   0   0   0   0   0  30 254 137   0\n",
      "    0   0   0   0   0   0   0   0   0   0]\n",
      " [  0   0   0   0   0   0   0   0   0   0   0   0   0   0  15 204 238  11\n",
      "    0   0   0   0   0   0   0   0   0   0]\n",
      " [  0   0   0   0   0   0   0   0   0   0   0   0   0   0   0   0   0   0\n",
      "    0   0   0   0   0   0   0   0   0   0]\n",
      " [  0   0   0   0   0   0   0   0   0   0   0   0   0   0   0   0   0   0\n",
      "    0   0   0   0   0   0   0   0   0   0]\n",
      " [  0   0   0   0   0   0   0   0   0   0   0   0   0   0   0   0   0   0\n",
      "    0   0   0   0   0   0   0   0   0   0]\n",
      " [  0   0   0   0   0   0   0   0   0   0   0   0   0   0   0   0   0   0\n",
      "    0   0   0   0   0   0   0   0   0   0]]\n"
     ]
    }
   ],
   "source": [
    "print(x_train[0])"
   ]
  },
  {
   "cell_type": "markdown",
   "metadata": {},
   "source": [
    "<img src=\"./imgs/ex.png\" width=\"600\" height=\"500\"/>"
   ]
  },
  {
   "cell_type": "code",
   "execution_count": 7,
   "metadata": {},
   "outputs": [
    {
     "name": "stdout",
     "output_type": "stream",
     "text": [
      "[0. 0. 0. 0. 1. 0. 0. 0. 0. 0.]\n",
      "[0. 0. 0. 0. 1. 0. 0. 0. 0. 0.]\n",
      "[0. 0. 0. 0. 0. 0. 0. 1. 0. 0.]\n"
     ]
    }
   ],
   "source": [
    "x_train = x_train / 255.\n",
    "x_val = x_val / 255.\n",
    "x_test = x_test / 255.\n",
    "\n",
    "y_train = utils.to_categorical(y_train)\n",
    "y_val = utils.to_categorical(y_val)\n",
    "y_test = utils.to_categorical(y_test)\n",
    "\n",
    "print(y_train[0])\n",
    "print(y_val[0])\n",
    "print(y_test[0])"
   ]
  },
  {
   "cell_type": "markdown",
   "metadata": {},
   "source": [
    "## Model"
   ]
  },
  {
   "cell_type": "code",
   "execution_count": 8,
   "metadata": {},
   "outputs": [
    {
     "name": "stdout",
     "output_type": "stream",
     "text": [
      "Model: \"sequential\"\n",
      "_________________________________________________________________\n",
      " Layer (type)                Output Shape              Param #   \n",
      "=================================================================\n",
      " flatten (Flatten)           (None, 784)               0         \n",
      "                                                                 \n",
      " dense1 (Dense)              (None, 100)               78500     \n",
      "                                                                 \n",
      " dense2 (Dense)              (None, 64)                6464      \n",
      "                                                                 \n",
      " dense3 (Dense)              (None, 32)                2080      \n",
      "                                                                 \n",
      " output (Dense)              (None, 10)                330       \n",
      "                                                                 \n",
      "=================================================================\n",
      "Total params: 87,374\n",
      "Trainable params: 87,374\n",
      "Non-trainable params: 0\n",
      "_________________________________________________________________\n"
     ]
    },
    {
     "name": "stderr",
     "output_type": "stream",
     "text": [
      "2023-07-25 13:37:55.342435: I tensorflow/core/platform/cpu_feature_guard.cc:193] This TensorFlow binary is optimized with oneAPI Deep Neural Network Library (oneDNN) to use the following CPU instructions in performance-critical operations:  SSE4.1 SSE4.2 AVX AVX2 FMA\n",
      "To enable them in other operations, rebuild TensorFlow with the appropriate compiler flags.\n"
     ]
    }
   ],
   "source": [
    "model = models.Sequential()\n",
    "model.add(keras.Input(shape=(28, 28), name='input'))\n",
    "model.add(layers.Flatten(input_shape=[28, 28], name='flatten'))\n",
    "model.add(layers.Dense(100, activation='relu', name='dense1'))\n",
    "model.add(layers.Dense(64, activation='relu', name='dense2'))\n",
    "model.add(layers.Dense(32, activation='relu', name='dense3'))\n",
    "model.add(layers.Dense(10, activation='softmax', name='output'))\n",
    "model.summary()"
   ]
  },
  {
   "cell_type": "code",
   "execution_count": 10,
   "metadata": {},
   "outputs": [
    {
     "data": {
      "image/png": "[encoded data removed]",
      "text/plain": [
       "<IPython.core.display.Image object>"
      ]
     },
     "execution_count": 10,
     "metadata": {},
     "output_type": "execute_result"
    }
   ],
   "source": [
    "utils.plot_model(model, show_shapes=True)"
   ]
  },
  {
   "cell_type": "markdown",
   "metadata": {},
   "source": [
    "## Train"
   ]
  },
  {
   "cell_type": "code",
   "execution_count": 11,
   "metadata": {},
   "outputs": [],
   "source": [
    "model.compile(loss='categorical_crossentropy',\n",
    "              optimizer='sgd',\n",
    "              metrics=['accuracy'])"
   ]
  },
  {
   "cell_type": "code",
   "execution_count": 12,
   "metadata": {},
   "outputs": [
    {
     "name": "stdout",
     "output_type": "stream",
     "text": [
      "Epoch 1/50\n",
      "329/329 [==============================] - 2s 4ms/step - loss: 2.0319 - accuracy: 0.3785 - val_loss: 1.4623 - val_accuracy: 0.6826\n",
      "Epoch 2/50\n",
      "329/329 [==============================] - 1s 4ms/step - loss: 0.8945 - accuracy: 0.7930 - val_loss: 0.5926 - val_accuracy: 0.8411\n",
      "Epoch 3/50\n",
      "329/329 [==============================] - 1s 3ms/step - loss: 0.4986 - accuracy: 0.8625 - val_loss: 0.4449 - val_accuracy: 0.8713\n",
      "Epoch 4/50\n",
      "329/329 [==============================] - 1s 4ms/step - loss: 0.4033 - accuracy: 0.8833 - val_loss: 0.3877 - val_accuracy: 0.8817\n",
      "Epoch 5/50\n",
      "329/329 [==============================] - 1s 4ms/step - loss: 0.3559 - accuracy: 0.8977 - val_loss: 0.3490 - val_accuracy: 0.8967\n",
      "Epoch 6/50\n",
      "329/329 [==============================] - 1s 3ms/step - loss: 0.3248 - accuracy: 0.9062 - val_loss: 0.3208 - val_accuracy: 0.9035\n",
      "Epoch 7/50\n",
      "329/329 [==============================] - 1s 3ms/step - loss: 0.3013 - accuracy: 0.9131 - val_loss: 0.2936 - val_accuracy: 0.9122\n",
      "Epoch 8/50\n",
      "329/329 [==============================] - 1s 3ms/step - loss: 0.2827 - accuracy: 0.9185 - val_loss: 0.2924 - val_accuracy: 0.9110\n",
      "Epoch 9/50\n",
      "329/329 [==============================] - 1s 3ms/step - loss: 0.2668 - accuracy: 0.9232 - val_loss: 0.2707 - val_accuracy: 0.9178\n",
      "Epoch 10/50\n",
      "329/329 [==============================] - 1s 3ms/step - loss: 0.2538 - accuracy: 0.9268 - val_loss: 0.2515 - val_accuracy: 0.9249\n",
      "Epoch 11/50\n",
      "329/329 [==============================] - 1s 3ms/step - loss: 0.2414 - accuracy: 0.9305 - val_loss: 0.2426 - val_accuracy: 0.9263\n",
      "Epoch 12/50\n",
      "329/329 [==============================] - 1s 3ms/step - loss: 0.2309 - accuracy: 0.9334 - val_loss: 0.2373 - val_accuracy: 0.9298\n",
      "Epoch 13/50\n",
      "329/329 [==============================] - 1s 3ms/step - loss: 0.2212 - accuracy: 0.9370 - val_loss: 0.2242 - val_accuracy: 0.9320\n",
      "Epoch 14/50\n",
      "329/329 [==============================] - 1s 3ms/step - loss: 0.2129 - accuracy: 0.9396 - val_loss: 0.2149 - val_accuracy: 0.9356\n",
      "Epoch 15/50\n",
      "329/329 [==============================] - 1s 3ms/step - loss: 0.2047 - accuracy: 0.9417 - val_loss: 0.2143 - val_accuracy: 0.9358\n",
      "Epoch 16/50\n",
      "329/329 [==============================] - 1s 4ms/step - loss: 0.1971 - accuracy: 0.9440 - val_loss: 0.2086 - val_accuracy: 0.9366\n",
      "Epoch 17/50\n",
      "329/329 [==============================] - 1s 3ms/step - loss: 0.1904 - accuracy: 0.9459 - val_loss: 0.1983 - val_accuracy: 0.9402\n",
      "Epoch 18/50\n",
      "329/329 [==============================] - 1s 3ms/step - loss: 0.1840 - accuracy: 0.9478 - val_loss: 0.1901 - val_accuracy: 0.9424\n",
      "Epoch 19/50\n",
      "329/329 [==============================] - 1s 4ms/step - loss: 0.1779 - accuracy: 0.9496 - val_loss: 0.1874 - val_accuracy: 0.9419\n",
      "Epoch 20/50\n",
      "329/329 [==============================] - 1s 3ms/step - loss: 0.1722 - accuracy: 0.9514 - val_loss: 0.1851 - val_accuracy: 0.9430\n",
      "Epoch 21/50\n",
      "329/329 [==============================] - 1s 3ms/step - loss: 0.1672 - accuracy: 0.9529 - val_loss: 0.1815 - val_accuracy: 0.9439\n",
      "Epoch 22/50\n",
      "329/329 [==============================] - 1s 3ms/step - loss: 0.1623 - accuracy: 0.9540 - val_loss: 0.1751 - val_accuracy: 0.9467\n",
      "Epoch 23/50\n",
      "329/329 [==============================] - 1s 3ms/step - loss: 0.1573 - accuracy: 0.9555 - val_loss: 0.1705 - val_accuracy: 0.9476\n",
      "Epoch 24/50\n",
      "329/329 [==============================] - 1s 3ms/step - loss: 0.1532 - accuracy: 0.9563 - val_loss: 0.1673 - val_accuracy: 0.9474\n",
      "Epoch 25/50\n",
      "329/329 [==============================] - 1s 3ms/step - loss: 0.1491 - accuracy: 0.9575 - val_loss: 0.1684 - val_accuracy: 0.9474\n",
      "Epoch 26/50\n",
      "329/329 [==============================] - 1s 3ms/step - loss: 0.1447 - accuracy: 0.9595 - val_loss: 0.1711 - val_accuracy: 0.9457\n",
      "Epoch 27/50\n",
      "329/329 [==============================] - 1s 3ms/step - loss: 0.1410 - accuracy: 0.9600 - val_loss: 0.1704 - val_accuracy: 0.9475\n",
      "Epoch 28/50\n",
      "329/329 [==============================] - 1s 3ms/step - loss: 0.1374 - accuracy: 0.9611 - val_loss: 0.1567 - val_accuracy: 0.9504\n",
      "Epoch 29/50\n",
      "329/329 [==============================] - 1s 3ms/step - loss: 0.1340 - accuracy: 0.9620 - val_loss: 0.1576 - val_accuracy: 0.9523\n",
      "Epoch 30/50\n",
      "329/329 [==============================] - 1s 3ms/step - loss: 0.1307 - accuracy: 0.9628 - val_loss: 0.1511 - val_accuracy: 0.9526\n",
      "Epoch 31/50\n",
      "329/329 [==============================] - 1s 3ms/step - loss: 0.1277 - accuracy: 0.9629 - val_loss: 0.1569 - val_accuracy: 0.9517\n",
      "Epoch 32/50\n",
      "329/329 [==============================] - 1s 3ms/step - loss: 0.1245 - accuracy: 0.9654 - val_loss: 0.1464 - val_accuracy: 0.9548\n",
      "Epoch 33/50\n",
      "329/329 [==============================] - 1s 3ms/step - loss: 0.1218 - accuracy: 0.9654 - val_loss: 0.1447 - val_accuracy: 0.9555\n",
      "Epoch 34/50\n",
      "329/329 [==============================] - 1s 3ms/step - loss: 0.1188 - accuracy: 0.9664 - val_loss: 0.1424 - val_accuracy: 0.9558\n",
      "Epoch 35/50\n",
      "329/329 [==============================] - 1s 3ms/step - loss: 0.1163 - accuracy: 0.9671 - val_loss: 0.1508 - val_accuracy: 0.9529\n",
      "Epoch 36/50\n",
      "329/329 [==============================] - 1s 4ms/step - loss: 0.1136 - accuracy: 0.9686 - val_loss: 0.1398 - val_accuracy: 0.9561\n",
      "Epoch 37/50\n",
      "329/329 [==============================] - 1s 3ms/step - loss: 0.1109 - accuracy: 0.9691 - val_loss: 0.1388 - val_accuracy: 0.9572\n",
      "Epoch 38/50\n",
      "329/329 [==============================] - 1s 3ms/step - loss: 0.1083 - accuracy: 0.9696 - val_loss: 0.1455 - val_accuracy: 0.9545\n",
      "Epoch 39/50\n",
      "329/329 [==============================] - 1s 3ms/step - loss: 0.1062 - accuracy: 0.9704 - val_loss: 0.1661 - val_accuracy: 0.9502\n",
      "Epoch 40/50\n",
      "329/329 [==============================] - 1s 3ms/step - loss: 0.1039 - accuracy: 0.9707 - val_loss: 0.1349 - val_accuracy: 0.9593\n",
      "Epoch 41/50\n",
      "329/329 [==============================] - 1s 3ms/step - loss: 0.1013 - accuracy: 0.9716 - val_loss: 0.1311 - val_accuracy: 0.9607\n",
      "Epoch 42/50\n",
      "329/329 [==============================] - 1s 3ms/step - loss: 0.0993 - accuracy: 0.9724 - val_loss: 0.1318 - val_accuracy: 0.9600\n",
      "Epoch 43/50\n",
      "329/329 [==============================] - 1s 3ms/step - loss: 0.0972 - accuracy: 0.9731 - val_loss: 0.1278 - val_accuracy: 0.9611\n",
      "Epoch 44/50\n",
      "329/329 [==============================] - 1s 3ms/step - loss: 0.0953 - accuracy: 0.9734 - val_loss: 0.1268 - val_accuracy: 0.9617\n",
      "Epoch 45/50\n",
      "329/329 [==============================] - 1s 3ms/step - loss: 0.0931 - accuracy: 0.9742 - val_loss: 0.1284 - val_accuracy: 0.9605\n",
      "Epoch 46/50\n",
      "329/329 [==============================] - 1s 3ms/step - loss: 0.0910 - accuracy: 0.9751 - val_loss: 0.1245 - val_accuracy: 0.9623\n",
      "Epoch 47/50\n",
      "329/329 [==============================] - 1s 3ms/step - loss: 0.0892 - accuracy: 0.9748 - val_loss: 0.1246 - val_accuracy: 0.9615\n",
      "Epoch 48/50\n",
      "329/329 [==============================] - 1s 4ms/step - loss: 0.0877 - accuracy: 0.9758 - val_loss: 0.1228 - val_accuracy: 0.9621\n",
      "Epoch 49/50\n",
      "329/329 [==============================] - 1s 3ms/step - loss: 0.0856 - accuracy: 0.9767 - val_loss: 0.1271 - val_accuracy: 0.9610\n",
      "Epoch 50/50\n",
      "329/329 [==============================] - 1s 3ms/step - loss: 0.0839 - accuracy: 0.9771 - val_loss: 0.1211 - val_accuracy: 0.9628\n"
     ]
    }
   ],
   "source": [
    "history = model.fit(x_train, y_train,\n",
    "                    epochs=50,\n",
    "                    batch_size=128,\n",
    "                    validation_data=(x_val, y_val))"
   ]
  },
  {
   "cell_type": "code",
   "execution_count": 13,
   "metadata": {},
   "outputs": [
    {
     "data": {
      "text/plain": [
       "dict_keys(['loss', 'accuracy', 'val_loss', 'val_accuracy'])"
      ]
     },
     "execution_count": 13,
     "metadata": {},
     "output_type": "execute_result"
    }
   ],
   "source": [
    "history.history.keys()"
   ]
  },
  {
   "cell_type": "code",
   "execution_count": 14,
   "metadata": {},
   "outputs": [
    {
     "data": {
      "image/png": "[encoded data removed]",
      "text/plain": [
       "<Figure size 864x360 with 2 Axes>"
      ]
     },
     "metadata": {
      "needs_background": "light"
     },
     "output_type": "display_data"
    }
   ],
   "source": [
    "history_dict = history.history\n",
    "\n",
    "loss = history_dict['loss']\n",
    "val_loss = history_dict['val_loss']\n",
    "\n",
    "epochs = range(1, len(loss) + 1)\n",
    "fig = plt.figure(figsize=(12, 5))\n",
    "\n",
    "ax1 = fig.add_subplot(1, 2, 1)\n",
    "ax1.plot(epochs, loss, color='blue', label='train_loss')\n",
    "ax1.plot(epochs, val_loss, color='red', label='val_loss')\n",
    "ax1.set_title('Train and Validation Loss')\n",
    "ax1.set_xlabel('Epochs')\n",
    "ax1.set_ylabel('Loss')\n",
    "ax1.grid()\n",
    "ax1.legend()\n",
    "\n",
    "accuracy = history_dict['accuracy']\n",
    "val_accuracy = history_dict['val_accuracy']\n",
    "\n",
    "ax2 = fig.add_subplot(1, 2, 2)\n",
    "ax2.plot(epochs, accuracy, color='blue', label='train_accuracy')\n",
    "ax2.plot(epochs, val_accuracy, color='red', label='val_accuracy')\n",
    "ax2.set_title('Train and Validation Accuracy')\n",
    "ax2.set_xlabel('Epochs')\n",
    "ax2.set_ylabel('Accuracy')\n",
    "ax2.grid()\n",
    "ax2.legend()\n",
    "\n",
    "plt.show()"
   ]
  },
  {
   "cell_type": "markdown",
   "metadata": {},
   "source": [
    "## Test"
   ]
  },
  {
   "cell_type": "code",
   "execution_count": 15,
   "metadata": {},
   "outputs": [
    {
     "name": "stdout",
     "output_type": "stream",
     "text": [
      "313/313 [==============================] - 1s 2ms/step - loss: 0.1165 - accuracy: 0.9651\n"
     ]
    },
    {
     "data": {
      "text/plain": [
       "[0.11654265224933624, 0.9650999903678894]"
      ]
     },
     "execution_count": 15,
     "metadata": {},
     "output_type": "execute_result"
    }
   ],
   "source": [
    "model.evaluate(x_test, y_test)"
   ]
  },
  {
   "cell_type": "code",
   "execution_count": 16,
   "metadata": {},
   "outputs": [
    {
     "name": "stdout",
     "output_type": "stream",
     "text": [
      "313/313 [==============================] - 1s 1ms/step\n",
      "(10000, 10)\n",
      "[8.9363230e-06 5.0932204e-06 1.6744561e-04 1.9848680e-03 4.1666834e-09\n",
      " 1.9139219e-04 1.2069937e-10 9.9749774e-01 7.6932774e-06 1.3691535e-04]\n"
     ]
    }
   ],
   "source": [
    "pred_ys = model.predict(x_test)\n",
    "print(pred_ys.shape)\n",
    "print(pred_ys[0])"
   ]
  },
  {
   "cell_type": "code",
   "execution_count": 17,
   "metadata": {},
   "outputs": [
    {
     "data": {
      "image/png": "[encoded data removed]",
      "text/plain": [
       "<Figure size 432x288 with 1 Axes>"
      ]
     },
     "metadata": {
      "needs_background": "light"
     },
     "output_type": "display_data"
    }
   ],
   "source": [
    "arg_pred_y = np.argmax(pred_ys, axis=1)\n",
    "\n",
    "plt.title(f'Predicted label: {arg_pred_y[0]}')\n",
    "plt.imshow(x_test[0])\n",
    "plt.show()"
   ]
  },
  {
   "cell_type": "markdown",
   "metadata": {},
   "source": [
    "## Metric"
   ]
  },
  {
   "cell_type": "code",
   "execution_count": 18,
   "metadata": {},
   "outputs": [
    {
     "name": "stdout",
     "output_type": "stream",
     "text": [
      "              precision    recall  f1-score   support\n",
      "\n",
      "           0       0.97      0.98      0.98       980\n",
      "           1       0.98      0.99      0.98      1135\n",
      "           2       0.98      0.97      0.97      1032\n",
      "           3       0.96      0.97      0.96      1010\n",
      "           4       0.96      0.97      0.97       982\n",
      "           5       0.97      0.95      0.96       892\n",
      "           6       0.96      0.97      0.96       958\n",
      "           7       0.97      0.95      0.96      1028\n",
      "           8       0.96      0.95      0.95       974\n",
      "           9       0.95      0.96      0.95      1009\n",
      "\n",
      "    accuracy                           0.97     10000\n",
      "   macro avg       0.96      0.96      0.96     10000\n",
      "weighted avg       0.97      0.97      0.97     10000\n",
      "\n"
     ]
    }
   ],
   "source": [
    "from sklearn.metrics import classification_report\n",
    "\n",
    "print(classification_report(np.argmax(y_test, axis=-1), np.argmax(pred_ys, axis=-1)))"
   ]
  },
  {
   "cell_type": "code",
   "execution_count": 19,
   "metadata": {},
   "outputs": [
    {
     "data": {
      "image/png": "[encoded data removed]",
      "text/plain": [
       "<Figure size 576x576 with 2 Axes>"
      ]
     },
     "metadata": {},
     "output_type": "display_data"
    }
   ],
   "source": [
    "from sklearn.metrics import confusion_matrix\n",
    "import seaborn as sns\n",
    "sns.set(style='white')\n",
    "\n",
    "plt.figure(figsize=(8, 8))\n",
    "cm = confusion_matrix(np.argmax(y_test, axis=1), np.argmax(pred_ys, axis=-1))\n",
    "sns.heatmap(cm, annot=True, fmt='d', cmap='Blues')\n",
    "plt.xlabel('Predicted Label')\n",
    "plt.ylabel('True Label')\n",
    "plt.show()"
   ]
  },
  {
   "cell_type": "markdown",
   "metadata": {},
   "source": [
    "# Save & Load"
   ]
  },
  {
   "cell_type": "markdown",
   "metadata": {},
   "source": [
    "- 모델을 열심히 학습시키고 저장을 안한다면 다시 처음부터 학습을 해야함\n",
    "- 어느 정도 학습이 되었다면 추후에 모델을 사용하기 위해서 저장할 필요가 있음\n",
    "- 모델을 저장할 때는 save() 함수를 사용하여 쉽게 저장\n",
    "- 다시 모델을 불러올 때는 load_model() 함수를 사용\n",
    "- 모델을 저장하고 로드하는 것에서 중요한 점은 모델 생성 시에 Sequencial API 또는 Functional API를 사용한 경우에는 모델의 저장 및 로드가 가능하지만 Subclassing API 방식은 사용할 수가 없음\n",
    "- Subclassing API 방식은 save_weights()와 load_weights()를 이용해 모델의 파라미터만 저장 및 로드하는 것이 가능"
   ]
  },
  {
   "cell_type": "code",
   "execution_count": 20,
   "metadata": {},
   "outputs": [],
   "source": [
    "model.save('mnist_model.h5')"
   ]
  },
  {
   "cell_type": "code",
   "execution_count": 21,
   "metadata": {},
   "outputs": [
    {
     "name": "stdout",
     "output_type": "stream",
     "text": [
      "Model: \"sequential\"\n",
      "_________________________________________________________________\n",
      " Layer (type)                Output Shape              Param #   \n",
      "=================================================================\n",
      " flatten (Flatten)           (None, 784)               0         \n",
      "                                                                 \n",
      " dense1 (Dense)              (None, 100)               78500     \n",
      "                                                                 \n",
      " dense2 (Dense)              (None, 64)                6464      \n",
      "                                                                 \n",
      " dense3 (Dense)              (None, 32)                2080      \n",
      "                                                                 \n",
      " output (Dense)              (None, 10)                330       \n",
      "                                                                 \n",
      "=================================================================\n",
      "Total params: 87,374\n",
      "Trainable params: 87,374\n",
      "Non-trainable params: 0\n",
      "_________________________________________________________________\n"
     ]
    }
   ],
   "source": [
    "loaded_model = models.load_model('mnist_model.h5')\n",
    "loaded_model.summary()"
   ]
  },
  {
   "cell_type": "code",
   "execution_count": 22,
   "metadata": {},
   "outputs": [
    {
     "name": "stdout",
     "output_type": "stream",
     "text": [
      "313/313 [==============================] - 1s 1ms/step\n",
      "(10000, 10)\n",
      "[8.9363230e-06 5.0932204e-06 1.6744561e-04 1.9848680e-03 4.1666834e-09\n",
      " 1.9139219e-04 1.2069937e-10 9.9749774e-01 7.6932774e-06 1.3691535e-04]\n"
     ]
    }
   ],
   "source": [
    "pred_ys2 = loaded_model.predict(x_test)\n",
    "print(pred_ys2.shape)\n",
    "print(pred_ys2[0])"
   ]
  },
  {
   "cell_type": "code",
   "execution_count": 23,
   "metadata": {},
   "outputs": [
    {
     "data": {
      "image/png": "[encoded data removed]",
      "text/plain": [
       "<Figure size 720x360 with 10 Axes>"
      ]
     },
     "metadata": {},
     "output_type": "display_data"
    }
   ],
   "source": [
    "# 예측값 시각화하기\n",
    "arg_pred_y2 = np.argmax(pred_ys2, axis=1)\n",
    "\n",
    "# Matplotlib를 이용해서 시각화하기\n",
    "plt.figure(figsize=(10, 5))\n",
    "\n",
    "# 처음 10개 이미지와 예측된 레이블 출력\n",
    "for i in range(10):\n",
    "    plt.subplot(2, 5, i + 1)\n",
    "    plt.imshow(x_test[i].reshape(28, 28), cmap='gray')\n",
    "    plt.title(f\"Predicted: {arg_pred_y2[i]}\")\n",
    "    plt.axis('off')\n",
    "\n",
    "plt.show()"
   ]
  },
  {
   "cell_type": "code",
   "execution_count": 24,
   "metadata": {},
   "outputs": [
    {
     "name": "stdout",
     "output_type": "stream",
     "text": [
      "313/313 [==============================] - 0s 1ms/step\n",
      "(10000, 10)\n",
      "[0.06391012 0.09492587 0.1198925  0.14349517 0.0919539  0.09579137\n",
      " 0.09640715 0.11170074 0.08693685 0.09498642]\n"
     ]
    }
   ],
   "source": [
    "## to_json() 함수를 이용해 모델을 저장해서 불러오기\n",
    "\n",
    "# 위에서 학습시킨 model의 구조를 json 형식으로 model_json에 저장합니다.\n",
    "model_json = model.to_json()\n",
    "\n",
    "# json으로 저장한 모델을 읽어옵니다.\n",
    "loaded_model = keras.models.model_from_json(model_json)\n",
    "\n",
    "predictions = loaded_model.predict(x_test)\n",
    "print(predictions.shape)\n",
    "print(predictions[0])"
   ]
  },
  {
   "cell_type": "markdown",
   "metadata": {},
   "source": [
    "# callBack"
   ]
  },
  {
   "cell_type": "markdown",
   "metadata": {},
   "source": [
    "- 모델을 fit() 함수를 통해 학습시키는 동안 'callbacks' 매개변수를 사용하여 학습 시작이나 끝에 호출할 객체 리스트를 여러개 지정 가능"
   ]
  },
  {
   "cell_type": "code",
   "execution_count": 25,
   "metadata": {},
   "outputs": [],
   "source": [
    "from tensorflow.keras import callbacks"
   ]
  },
  {
   "cell_type": "markdown",
   "metadata": {},
   "source": [
    "## ModelCheckpoint"
   ]
  },
  {
   "cell_type": "markdown",
   "metadata": {},
   "source": [
    "- tf.keras.callbacks.ModelCheckpoint : 정기적으로 모델의 체크포인트를 저장하고, 문제가 발생할 때 복구하는데 사용"
   ]
  },
  {
   "cell_type": "code",
   "execution_count": 26,
   "metadata": {},
   "outputs": [
    {
     "name": "stdout",
     "output_type": "stream",
     "text": [
      "Epoch 1/10\n",
      "1313/1313 [==============================] - 3s 2ms/step - loss: 0.0920 - accuracy: 0.9736\n",
      "Epoch 2/10\n",
      "1313/1313 [==============================] - 2s 2ms/step - loss: 0.0852 - accuracy: 0.9753\n",
      "Epoch 3/10\n",
      "1313/1313 [==============================] - 2s 2ms/step - loss: 0.0799 - accuracy: 0.9768\n",
      "Epoch 4/10\n",
      "1313/1313 [==============================] - 3s 2ms/step - loss: 0.0742 - accuracy: 0.9787\n",
      "Epoch 5/10\n",
      "1313/1313 [==============================] - 3s 2ms/step - loss: 0.0692 - accuracy: 0.9802\n",
      "Epoch 6/10\n",
      "1313/1313 [==============================] - 2s 2ms/step - loss: 0.0652 - accuracy: 0.9812\n",
      "Epoch 7/10\n",
      "1313/1313 [==============================] - 3s 2ms/step - loss: 0.0606 - accuracy: 0.9829\n",
      "Epoch 8/10\n",
      "1313/1313 [==============================] - 3s 3ms/step - loss: 0.0562 - accuracy: 0.9848\n",
      "Epoch 9/10\n",
      "1313/1313 [==============================] - 2s 2ms/step - loss: 0.0524 - accuracy: 0.9854\n",
      "Epoch 10/10\n",
      "1313/1313 [==============================] - 2s 2ms/step - loss: 0.0493 - accuracy: 0.9861\n"
     ]
    }
   ],
   "source": [
    "check_point_cb = callbacks.ModelCheckpoint('keras_mnist_model.h5')\n",
    "history = model.fit(x_train, y_train, epochs=10,\n",
    "                    callbacks=[check_point_cb])"
   ]
  },
  {
   "cell_type": "code",
   "execution_count": 27,
   "metadata": {},
   "outputs": [
    {
     "name": "stdout",
     "output_type": "stream",
     "text": [
      "Epoch 1/10\n",
      "1313/1313 [==============================] - 3s 3ms/step - loss: 0.0457 - accuracy: 0.9873 - val_loss: 0.1121 - val_accuracy: 0.9679\n",
      "Epoch 2/10\n",
      "1313/1313 [==============================] - 3s 2ms/step - loss: 0.0430 - accuracy: 0.9880 - val_loss: 0.1184 - val_accuracy: 0.9664\n",
      "Epoch 3/10\n",
      "1313/1313 [==============================] - 3s 3ms/step - loss: 0.0392 - accuracy: 0.9899 - val_loss: 0.1128 - val_accuracy: 0.9672\n",
      "Epoch 4/10\n",
      "1313/1313 [==============================] - 4s 3ms/step - loss: 0.0369 - accuracy: 0.9901 - val_loss: 0.1082 - val_accuracy: 0.9691\n",
      "Epoch 5/10\n",
      "1313/1313 [==============================] - 3s 2ms/step - loss: 0.0340 - accuracy: 0.9915 - val_loss: 0.1107 - val_accuracy: 0.9686\n",
      "Epoch 6/10\n",
      "1313/1313 [==============================] - 3s 2ms/step - loss: 0.0319 - accuracy: 0.9916 - val_loss: 0.1054 - val_accuracy: 0.9699\n",
      "Epoch 7/10\n",
      "1313/1313 [==============================] - 4s 3ms/step - loss: 0.0299 - accuracy: 0.9927 - val_loss: 0.1064 - val_accuracy: 0.9703\n",
      "Epoch 8/10\n",
      "1313/1313 [==============================] - 4s 3ms/step - loss: 0.0279 - accuracy: 0.9929 - val_loss: 0.1138 - val_accuracy: 0.9679\n",
      "Epoch 9/10\n",
      "1313/1313 [==============================] - 5s 4ms/step - loss: 0.0257 - accuracy: 0.9935 - val_loss: 0.1198 - val_accuracy: 0.9663\n",
      "Epoch 10/10\n",
      "1313/1313 [==============================] - 3s 3ms/step - loss: 0.0240 - accuracy: 0.9942 - val_loss: 0.1160 - val_accuracy: 0.9683\n"
     ]
    }
   ],
   "source": [
    "check_point_cb = callbacks.ModelCheckpoint('keras_mnist_model.h5', save_best_only=True)\n",
    "# 최상의 모델만을 저장하는 옵션으로 save_best_only=True를 지정\n",
    "history = model.fit(x_train, y_train, epochs=10,\n",
    "                    validation_data=(x_val, y_val),\n",
    "                    callbacks=[check_point_cb])"
   ]
  },
  {
   "cell_type": "markdown",
   "metadata": {},
   "source": [
    "## EarlyStopping"
   ]
  },
  {
   "cell_type": "markdown",
   "metadata": {},
   "source": [
    "- tf.keras.callbacks.EarlyStopping : 검증 성능이 한동안 개선되지 않을 경우 학습을 중단할 때 사용\n",
    "- patience 동안 검증 세트에 대한 점수가 오르지 않으면 학습을 멈추게 됨\n",
    "- 모델이 향상되지 않으면 학습이 자동으로 중지되므로, epochs 숫자를 크게 해도 무방\n",
    "- 학습이 끝난 후의 최상의 가중치를 복원하기 때문에 모델을 따로 복원할 필요가 없음"
   ]
  },
  {
   "cell_type": "code",
   "execution_count": 28,
   "metadata": {},
   "outputs": [
    {
     "name": "stdout",
     "output_type": "stream",
     "text": [
      "Epoch 1/10\n",
      "1313/1313 [==============================] - 4s 3ms/step - loss: 0.0225 - accuracy: 0.9950 - val_loss: 0.1130 - val_accuracy: 0.9697\n",
      "Epoch 2/10\n",
      "1313/1313 [==============================] - 3s 2ms/step - loss: 0.0211 - accuracy: 0.9951 - val_loss: 0.1078 - val_accuracy: 0.9706\n",
      "Epoch 3/10\n",
      "1313/1313 [==============================] - 3s 2ms/step - loss: 0.0190 - accuracy: 0.9960 - val_loss: 0.1121 - val_accuracy: 0.9703\n",
      "Epoch 4/10\n",
      "1313/1313 [==============================] - 3s 2ms/step - loss: 0.0178 - accuracy: 0.9958 - val_loss: 0.1117 - val_accuracy: 0.9694\n",
      "Epoch 5/10\n",
      "1313/1313 [==============================] - 3s 2ms/step - loss: 0.0165 - accuracy: 0.9966 - val_loss: 0.1149 - val_accuracy: 0.9702\n"
     ]
    }
   ],
   "source": [
    "check_point_cb = callbacks.ModelCheckpoint('keras_mnist_model.h5', save_best_only=True)\n",
    "# tf.keras.callbacks.EarlyStopping: 검증 성능이 한동안 개선되지 않을 경우 학습을 중단할 때 사용\n",
    "early_stopping_cb = callbacks.EarlyStopping(patience=3, monitor='val_loss',\n",
    "                                  restore_best_weights=True)\n",
    "history = model.fit(x_train, y_train, epochs=10,\n",
    "                    validation_data=(x_val, y_val),\n",
    "                    callbacks=[check_point_cb, early_stopping_cb])"
   ]
  },
  {
   "cell_type": "markdown",
   "metadata": {},
   "source": [
    "## LearningRateScheduler"
   ]
  },
  {
   "cell_type": "markdown",
   "metadata": {},
   "source": [
    "- tf.keras.callbacks.LearningRateSchduler : 최적화를 하는 동안 학습률을 동적으로 변경할 때 사용"
   ]
  },
  {
   "cell_type": "code",
   "execution_count": 29,
   "metadata": {},
   "outputs": [],
   "source": [
    "def scheduler(epoch, learning_rate):\n",
    "  # 에폭 수가 10 미만일 경우는 학습률을 그대로 하고, 10 이상이 되면 -0.1%씩 감소\n",
    "  if epoch < 10:\n",
    "    return learning_rate\n",
    "  else:\n",
    "    return learning_rate * tf.math.exp(-0.1)"
   ]
  },
  {
   "cell_type": "code",
   "execution_count": 30,
   "metadata": {},
   "outputs": [
    {
     "data": {
      "text/plain": [
       "0.01"
      ]
     },
     "execution_count": 30,
     "metadata": {},
     "output_type": "execute_result"
    }
   ],
   "source": [
    "round(model.optimizer.lr.numpy(), 5)"
   ]
  },
  {
   "cell_type": "code",
   "execution_count": 31,
   "metadata": {},
   "outputs": [
    {
     "data": {
      "text/plain": [
       "0.00607"
      ]
     },
     "execution_count": 31,
     "metadata": {},
     "output_type": "execute_result"
    }
   ],
   "source": [
    "lr_scheduler_cb = callbacks.LearningRateScheduler(scheduler)\n",
    "\n",
    "history = model.fit(x_train, y_train, epochs=15,\n",
    "                    callbacks=[lr_scheduler_cb], verbose=0)\n",
    "\n",
    "round(model.optimizer.lr.numpy(), 5)"
   ]
  },
  {
   "cell_type": "markdown",
   "metadata": {},
   "source": [
    "## Tensorboard"
   ]
  },
  {
   "cell_type": "markdown",
   "metadata": {},
   "source": [
    "- tf.keras.callbacks.TensorBoard : 모델의 경과를 모니터링할 때 사용\n",
    "- TensorBoard를 이용하여 학습과정을 모니터링하기 위해서는 logs 폴더를 만들고, 학습이 진행되는 동안 로그 파일을 생성\n",
    "- TensorBoard에는 효율적인 모니터링을 위해서 여러가지 기능들을 제공"
   ]
  },
  {
   "cell_type": "code",
   "execution_count": 32,
   "metadata": {},
   "outputs": [
    {
     "name": "stdout",
     "output_type": "stream",
     "text": [
      "Epoch 1/30\n",
      "1313/1313 [==============================] - 3s 2ms/step - loss: 0.0060 - accuracy: 0.9994 - val_loss: 0.1209 - val_accuracy: 0.9715\n",
      "Epoch 2/30\n",
      "1313/1313 [==============================] - 3s 2ms/step - loss: 0.0058 - accuracy: 0.9994 - val_loss: 0.1197 - val_accuracy: 0.9719\n",
      "Epoch 3/30\n",
      "1313/1313 [==============================] - 3s 2ms/step - loss: 0.0056 - accuracy: 0.9995 - val_loss: 0.1195 - val_accuracy: 0.9716\n",
      "Epoch 4/30\n",
      "1313/1313 [==============================] - 3s 2ms/step - loss: 0.0053 - accuracy: 0.9995 - val_loss: 0.1212 - val_accuracy: 0.9714\n",
      "Epoch 5/30\n",
      "1313/1313 [==============================] - 3s 2ms/step - loss: 0.0052 - accuracy: 0.9997 - val_loss: 0.1205 - val_accuracy: 0.9715\n",
      "Epoch 6/30\n",
      "1313/1313 [==============================] - 3s 2ms/step - loss: 0.0051 - accuracy: 0.9996 - val_loss: 0.1236 - val_accuracy: 0.9713\n",
      "Epoch 7/30\n",
      "1313/1313 [==============================] - 3s 2ms/step - loss: 0.0048 - accuracy: 0.9997 - val_loss: 0.1222 - val_accuracy: 0.9714\n",
      "Epoch 8/30\n",
      "1313/1313 [==============================] - 3s 2ms/step - loss: 0.0046 - accuracy: 0.9997 - val_loss: 0.1233 - val_accuracy: 0.9709\n",
      "Epoch 9/30\n",
      "1313/1313 [==============================] - 3s 2ms/step - loss: 0.0045 - accuracy: 0.9997 - val_loss: 0.1259 - val_accuracy: 0.9712\n",
      "Epoch 10/30\n",
      "1313/1313 [==============================] - 3s 2ms/step - loss: 0.0043 - accuracy: 0.9999 - val_loss: 0.1241 - val_accuracy: 0.9717\n",
      "Epoch 11/30\n",
      "1313/1313 [==============================] - 3s 2ms/step - loss: 0.0042 - accuracy: 0.9998 - val_loss: 0.1260 - val_accuracy: 0.9718\n",
      "Epoch 12/30\n",
      "1313/1313 [==============================] - 3s 2ms/step - loss: 0.0040 - accuracy: 0.9999 - val_loss: 0.1257 - val_accuracy: 0.9712\n",
      "Epoch 13/30\n",
      "1313/1313 [==============================] - 3s 2ms/step - loss: 0.0039 - accuracy: 0.9998 - val_loss: 0.1251 - val_accuracy: 0.9712\n",
      "Epoch 14/30\n",
      "1313/1313 [==============================] - 3s 3ms/step - loss: 0.0038 - accuracy: 0.9999 - val_loss: 0.1257 - val_accuracy: 0.9718\n",
      "Epoch 15/30\n",
      "1313/1313 [==============================] - 4s 3ms/step - loss: 0.0037 - accuracy: 0.9999 - val_loss: 0.1260 - val_accuracy: 0.9717\n",
      "Epoch 16/30\n",
      "1313/1313 [==============================] - 4s 3ms/step - loss: 0.0035 - accuracy: 0.9999 - val_loss: 0.1281 - val_accuracy: 0.9713\n",
      "Epoch 17/30\n",
      "1313/1313 [==============================] - 4s 3ms/step - loss: 0.0034 - accuracy: 0.9999 - val_loss: 0.1275 - val_accuracy: 0.9715\n",
      "Epoch 18/30\n",
      "1313/1313 [==============================] - 3s 3ms/step - loss: 0.0033 - accuracy: 1.0000 - val_loss: 0.1279 - val_accuracy: 0.9717\n",
      "Epoch 19/30\n",
      "1313/1313 [==============================] - 4s 3ms/step - loss: 0.0033 - accuracy: 0.9999 - val_loss: 0.1285 - val_accuracy: 0.9713\n",
      "Epoch 20/30\n",
      "1313/1313 [==============================] - 4s 3ms/step - loss: 0.0031 - accuracy: 1.0000 - val_loss: 0.1287 - val_accuracy: 0.9713\n",
      "Epoch 21/30\n",
      "1313/1313 [==============================] - 4s 3ms/step - loss: 0.0031 - accuracy: 1.0000 - val_loss: 0.1302 - val_accuracy: 0.9717\n",
      "Epoch 22/30\n",
      "1313/1313 [==============================] - 4s 3ms/step - loss: 0.0030 - accuracy: 1.0000 - val_loss: 0.1289 - val_accuracy: 0.9718\n",
      "Epoch 23/30\n",
      "1313/1313 [==============================] - 4s 3ms/step - loss: 0.0029 - accuracy: 0.9999 - val_loss: 0.1298 - val_accuracy: 0.9712\n",
      "Epoch 24/30\n",
      "1313/1313 [==============================] - 4s 3ms/step - loss: 0.0028 - accuracy: 0.9999 - val_loss: 0.1305 - val_accuracy: 0.9712\n",
      "Epoch 25/30\n",
      "1313/1313 [==============================] - 3s 3ms/step - loss: 0.0027 - accuracy: 1.0000 - val_loss: 0.1324 - val_accuracy: 0.9718\n",
      "Epoch 26/30\n",
      "1313/1313 [==============================] - 4s 3ms/step - loss: 0.0027 - accuracy: 1.0000 - val_loss: 0.1313 - val_accuracy: 0.9715\n",
      "Epoch 27/30\n",
      "1313/1313 [==============================] - 4s 3ms/step - loss: 0.0026 - accuracy: 1.0000 - val_loss: 0.1310 - val_accuracy: 0.9718\n",
      "Epoch 28/30\n",
      "1313/1313 [==============================] - 4s 3ms/step - loss: 0.0026 - accuracy: 1.0000 - val_loss: 0.1326 - val_accuracy: 0.9712\n",
      "Epoch 29/30\n",
      "1313/1313 [==============================] - 4s 3ms/step - loss: 0.0025 - accuracy: 1.0000 - val_loss: 0.1331 - val_accuracy: 0.9713\n",
      "Epoch 30/30\n",
      "1313/1313 [==============================] - 4s 3ms/step - loss: 0.0024 - accuracy: 1.0000 - val_loss: 0.1322 - val_accuracy: 0.9717\n"
     ]
    },
    {
     "data": {
      "text/plain": [
       "<keras.callbacks.History at 0x7fea26f0fe80>"
      ]
     },
     "execution_count": 32,
     "metadata": {},
     "output_type": "execute_result"
    }
   ],
   "source": [
    "log_dir = './logs'\n",
    "tensor_board_cb = [callbacks.TensorBoard(log_dir=log_dir, histogram_freq=1, write_graph=True, write_images=True)]\n",
    "model.fit(x_train, y_train, batch_size=32, validation_data=(x_val, y_val),\n",
    "          epochs=30, callbacks=tensor_board_cb)"
   ]
  },
  {
   "cell_type": "code",
   "execution_count": 33,
   "metadata": {},
   "outputs": [
    {
     "data": {
      "text/plain": [
       "ERROR: Failed to launch TensorBoard (exited with 1).\n",
       "Contents of stderr:\n",
       "NOTE: Using experimental fast data loading logic. To disable, pass\n",
       "    \"--load_fast=false\" and report issues on GitHub. More details:\n",
       "    https://github.com/tensorflow/tensorboard/issues/4784\n",
       "\n",
       "Traceback (most recent call last):\n",
       "  File \"/Users/sanghyun/miniforge3/envs/yeardream/bin/tensorboard\", line 10, in <module>\n",
       "    sys.exit(run_main())\n",
       "  File \"/Users/sanghyun/miniforge3/envs/yeardream/lib/python3.8/site-packages/tensorboard/main.py\", line 46, in run_main\n",
       "    app.run(tensorboard.main, flags_parser=tensorboard.configure)\n",
       "  File \"/Users/sanghyun/miniforge3/envs/yeardream/lib/python3.8/site-packages/absl/app.py\", line 312, in run\n",
       "    _run_main(main, args)\n",
       "  File \"/Users/sanghyun/miniforge3/envs/yeardream/lib/python3.8/site-packages/absl/app.py\", line 258, in _run_main\n",
       "    sys.exit(main(argv))\n",
       "  File \"/Users/sanghyun/miniforge3/envs/yeardream/lib/python3.8/site-packages/tensorboard/program.py\", line 276, in main\n",
       "    return runner(self.flags) or 0\n",
       "  File \"/Users/sanghyun/miniforge3/envs/yeardream/lib/python3.8/site-packages/tensorboard/program.py\", line 292, in _run_serve_subcommand\n",
       "    server = self._make_server()\n",
       "  File \"/Users/sanghyun/miniforge3/envs/yeardream/lib/python3.8/site-packages/tensorboard/program.py\", line 474, in _make_server\n",
       "    return self.server_class(app, self.flags)\n",
       "  File \"/Users/sanghyun/miniforge3/envs/yeardream/lib/python3.8/site-packages/tensorboard/program.py\", line 654, in init\n",
       "    return cls(wsgi_app=wsgi_app, flags=subflags)\n",
       "  File \"/Users/sanghyun/miniforge3/envs/yeardream/lib/python3.8/site-packages/tensorboard/program.py\", line 702, in __init__\n",
       "    super(WerkzeugServer, self).__init__(\n",
       "  File \"/Users/sanghyun/miniforge3/envs/yeardream/lib/python3.8/site-packages/werkzeug/serving.py\", line 709, in __init__\n",
       "    self.server_bind()\n",
       "  File \"/Users/sanghyun/miniforge3/envs/yeardream/lib/python3.8/site-packages/tensorboard/program.py\", line 821, in server_bind\n",
       "    super(WerkzeugServer, self).server_bind()\n",
       "  File \"/Users/sanghyun/miniforge3/envs/yeardream/lib/python3.8/http/server.py\", line 138, in server_bind\n",
       "    socketserver.TCPServer.server_bind(self)\n",
       "  File \"/Users/sanghyun/miniforge3/envs/yeardream/lib/python3.8/socketserver.py\", line 466, in server_bind\n",
       "    self.socket.bind(self.server_address)\n",
       "socket.gaierror: [Errno 8] nodename nor servname provided, or not known"
      ]
     },
     "metadata": {},
     "output_type": "display_data"
    }
   ],
   "source": [
    "%load_ext tensorboard\n",
    "%tensorboard --logdir {log_dir}"
   ]
  }
 ],
 "metadata": {
  "kernelspec": {
   "display_name": "yeardream",
   "language": "python",
   "name": "python3"
  },
  "language_info": {
   "codemirror_mode": {
    "name": "ipython",
    "version": 3
   },
   "file_extension": ".py",
   "mimetype": "text/x-python",
   "name": "python",
   "nbconvert_exporter": "python",
   "pygments_lexer": "ipython3",
   "version": "3.8.13"
  },
  "orig_nbformat": 4
 },
 "nbformat": 4,
 "nbformat_minor": 2
}
