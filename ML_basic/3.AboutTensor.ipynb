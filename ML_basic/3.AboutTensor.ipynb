{
 "cells": [
  {
   "cell_type": "code",
   "execution_count": 1,
   "metadata": {},
   "outputs": [],
   "source": [
    "import tensorflow as tf"
   ]
  },
  {
   "cell_type": "markdown",
   "metadata": {},
   "source": [
    "## Tensor 기본 명령어"
   ]
  },
  {
   "cell_type": "code",
   "execution_count": 2,
   "metadata": {},
   "outputs": [
    {
     "name": "stdout",
     "output_type": "stream",
     "text": [
      "tf.Tensor(1, shape=(), dtype=int32)\n",
      "tf.Tensor(0, shape=(), dtype=int32)\n"
     ]
    },
    {
     "name": "stderr",
     "output_type": "stream",
     "text": [
      "2023-07-24 11:29:26.042211: I tensorflow/core/platform/cpu_feature_guard.cc:193] This TensorFlow binary is optimized with oneAPI Deep Neural Network Library (oneDNN) to use the following CPU instructions in performance-critical operations:  SSE4.1 SSE4.2 AVX AVX2 FMA\n",
      "To enable them in other operations, rebuild TensorFlow with the appropriate compiler flags.\n"
     ]
    }
   ],
   "source": [
    "t0 = tf.constant(1) \n",
    "print(t0)\n",
    "print(tf.rank(t0)) # 축의 개수를 반환합니다."
   ]
  },
  {
   "cell_type": "code",
   "execution_count": 3,
   "metadata": {},
   "outputs": [
    {
     "name": "stdout",
     "output_type": "stream",
     "text": [
      "tf.Tensor([1 2 3], shape=(3,), dtype=int32)\n",
      "tf.Tensor(1, shape=(), dtype=int32)\n"
     ]
    }
   ],
   "source": [
    "t1 = tf.constant([1, 2, 3]) \n",
    "print(t1)\n",
    "print(tf.rank(t1))"
   ]
  },
  {
   "cell_type": "code",
   "execution_count": 4,
   "metadata": {},
   "outputs": [
    {
     "name": "stdout",
     "output_type": "stream",
     "text": [
      "tf.Tensor(\n",
      "[[1 2 3]\n",
      " [4 5 6]\n",
      " [7 8 9]], shape=(3, 3), dtype=int32)\n",
      "tf.Tensor(2, shape=(), dtype=int32)\n"
     ]
    }
   ],
   "source": [
    "t1 = tf.constant([[1, 2, 3],[4,5,6],[7,8,9]]) \n",
    "print(t1)\n",
    "print(tf.rank(t1))"
   ]
  },
  {
   "cell_type": "code",
   "execution_count": 5,
   "metadata": {},
   "outputs": [
    {
     "name": "stdout",
     "output_type": "stream",
     "text": [
      "tf.Tensor(\n",
      "[[[1 2 3]\n",
      "  [4 5 6]\n",
      "  [7 8 9]]\n",
      "\n",
      " [[1 2 3]\n",
      "  [4 5 6]\n",
      "  [7 8 9]]\n",
      "\n",
      " [[1 2 3]\n",
      "  [4 5 6]\n",
      "  [7 8 9]]], shape=(3, 3, 3), dtype=int32)\n",
      "tf.Tensor(3, shape=(), dtype=int32)\n"
     ]
    }
   ],
   "source": [
    "# Q. 위 이미지와 같은 크기(3, 3, 3)의 3차원 텐서를 만들고, 차원을 반환해 주세요.\n",
    "t1 = tf.constant([[[1, 2, 3],[4,5,6],[7,8,9]],[[1, 2, 3],[4,5,6],[7,8,9]],[[1, 2, 3],[4,5,6],[7,8,9]]]) \n",
    "print(t1)\n",
    "print(tf.rank(t1))"
   ]
  },
  {
   "cell_type": "markdown",
   "metadata": {},
   "source": [
    "## Tensor의 shape"
   ]
  },
  {
   "cell_type": "code",
   "execution_count": 2,
   "metadata": {},
   "outputs": [
    {
     "name": "stdout",
     "output_type": "stream",
     "text": [
      "tf.Tensor(\n",
      "[[1]\n",
      " [2]\n",
      " [3]], shape=(3, 1), dtype=int32)\n",
      "(3, 1)\n",
      "tf.Tensor([[1 2 3]], shape=(1, 3), dtype=int32)\n",
      "(1, 3)\n"
     ]
    },
    {
     "name": "stderr",
     "output_type": "stream",
     "text": [
      "2023-07-24 23:58:26.867945: I tensorflow/core/platform/cpu_feature_guard.cc:193] This TensorFlow binary is optimized with oneAPI Deep Neural Network Library (oneDNN) to use the following CPU instructions in performance-critical operations:  SSE4.1 SSE4.2 AVX AVX2 FMA\n",
      "To enable them in other operations, rebuild TensorFlow with the appropriate compiler flags.\n"
     ]
    }
   ],
   "source": [
    "# Tensor의 shape 변환\n",
    "\n",
    "x = tf.constant([[1], [2], [3]])\n",
    "print(x)\n",
    "print(x.shape)\n",
    "\n",
    "y = tf.reshape(x, [1, 3])\n",
    "# Tensor x를 [1,3] 으로 변경\n",
    "# 3x1 => 1x3으로\n",
    "print(y)\n",
    "print(y.shape)"
   ]
  },
  {
   "cell_type": "code",
   "execution_count": 3,
   "metadata": {},
   "outputs": [
    {
     "name": "stdout",
     "output_type": "stream",
     "text": [
      "tf.Tensor([[1 2 3]], shape=(1, 3), dtype=int32)\n",
      "tf.Tensor(\n",
      "[[1]\n",
      " [2]\n",
      " [3]], shape=(3, 1), dtype=int32)\n",
      "(1, 3)\n"
     ]
    }
   ],
   "source": [
    "print(y)\n",
    "#[[1,2,3]]\n",
    "print(tf.transpose(y))\n",
    "# [[1]\n",
    "#  [2]\n",
    "#  [3]]\n",
    "\n",
    "# transpose하면서 reshape이 자연스럽게 일어남\n",
    "# 1x3 => 3x1\n",
    "print(y.shape)"
   ]
  },
  {
   "cell_type": "code",
   "execution_count": 4,
   "metadata": {},
   "outputs": [
    {
     "name": "stdout",
     "output_type": "stream",
     "text": [
      "tf.Tensor(\n",
      "[[1]\n",
      " [2]\n",
      " [3]], shape=(3, 1), dtype=int32)\n",
      "tf.Tensor([1 2 3], shape=(3,), dtype=int32)\n"
     ]
    }
   ],
   "source": [
    "print(x)\n",
    "print(tf.squeeze(x))"
   ]
  },
  {
   "cell_type": "code",
   "execution_count": 12,
   "metadata": {},
   "outputs": [
    {
     "name": "stdout",
     "output_type": "stream",
     "text": [
      "tf.Tensor(\n",
      "[[1 2 3]\n",
      " [4 5 6]\n",
      " [7 8 9]], shape=(3, 3), dtype=int32)\n",
      "tf.Tensor(\n",
      "[[1 2 3]\n",
      " [4 5 6]\n",
      " [7 8 9]], shape=(3, 3), dtype=int32)\n"
     ]
    }
   ],
   "source": [
    "z = tf.constant([[1,2,3],[4,5,6],[7,8,9]])\n",
    "print(z)\n",
    "\n",
    "print(tf.squeeze(z))"
   ]
  },
  {
   "cell_type": "code",
   "execution_count": 13,
   "metadata": {},
   "outputs": [
    {
     "name": "stdout",
     "output_type": "stream",
     "text": [
      "tf.Tensor([[1 2 3]], shape=(1, 3), dtype=int32)\n",
      "tf.Tensor([[[1 2 3]]], shape=(1, 1, 3), dtype=int32)\n",
      "tf.Tensor([[[1 2 3]]], shape=(1, 1, 3), dtype=int32)\n",
      "tf.Tensor(\n",
      "[[[1]\n",
      "  [2]\n",
      "  [3]]], shape=(1, 3, 1), dtype=int32)\n"
     ]
    }
   ],
   "source": [
    "# 차원 추가\n",
    "\n",
    "print(y)\n",
    "print(tf.expand_dims(y, axis=0))\n",
    "print(tf.expand_dims(y, axis=1))\n",
    "print(tf.expand_dims(y, axis=2))"
   ]
  },
  {
   "cell_type": "code",
   "execution_count": 14,
   "metadata": {},
   "outputs": [
    {
     "name": "stdout",
     "output_type": "stream",
     "text": [
      "tf.Tensor(\n",
      "[[1]\n",
      " [2]\n",
      " [3]], shape=(3, 1), dtype=int32)\n",
      "[<tf.Tensor: shape=(1, 1), dtype=int32, numpy=array([[1]], dtype=int32)>, <tf.Tensor: shape=(1, 1), dtype=int32, numpy=array([[2]], dtype=int32)>, <tf.Tensor: shape=(1, 1), dtype=int32, numpy=array([[3]], dtype=int32)>]\n"
     ]
    }
   ],
   "source": [
    "# 텐서 분리\n",
    "\n",
    "print(x)\n",
    "print(tf.split(x, 3))"
   ]
  },
  {
   "cell_type": "code",
   "execution_count": 16,
   "metadata": {},
   "outputs": [
    {
     "name": "stdout",
     "output_type": "stream",
     "text": [
      "[<tf.Tensor: shape=(1, 3), dtype=int32, numpy=array([[1, 2, 3]], dtype=int32)>, <tf.Tensor: shape=(1, 3), dtype=int32, numpy=array([[4, 5, 6]], dtype=int32)>, <tf.Tensor: shape=(1, 3), dtype=int32, numpy=array([[7, 8, 9]], dtype=int32)>]\n"
     ]
    }
   ],
   "source": [
    "z = tf.constant([[1,2,3],[4,5,6],[7,8,9]])\n",
    "print(tf.split(z, 3))"
   ]
  },
  {
   "cell_type": "code",
   "execution_count": 15,
   "metadata": {},
   "outputs": [
    {
     "name": "stdout",
     "output_type": "stream",
     "text": [
      "tf.Tensor(\n",
      "[[1]\n",
      " [2]\n",
      " [3]], shape=(3, 1), dtype=int32)\n",
      "tf.Tensor(\n",
      "[[1]\n",
      " [2]\n",
      " [3]\n",
      " [1]\n",
      " [2]\n",
      " [3]], shape=(6, 1), dtype=int32)\n",
      "tf.Tensor(\n",
      "[[1 1]\n",
      " [2 2]\n",
      " [3 3]], shape=(3, 2), dtype=int32)\n"
     ]
    }
   ],
   "source": [
    "# 텐서 연결\n",
    "# axis로 축 지정\n",
    "\n",
    "print(x)\n",
    "print(tf.concat([x, x], axis=0))\n",
    "print(tf.concat([x, x], axis=1))"
   ]
  },
  {
   "cell_type": "markdown",
   "metadata": {},
   "source": [
    "## Tensor 연산"
   ]
  },
  {
   "cell_type": "code",
   "execution_count": 17,
   "metadata": {},
   "outputs": [
    {
     "name": "stdout",
     "output_type": "stream",
     "text": [
      "tf.Tensor(4, shape=(), dtype=int32)\n",
      "tf.Tensor(0, shape=(), dtype=int32)\n",
      "tf.Tensor(4, shape=(), dtype=int32)\n",
      "tf.Tensor(0, shape=(), dtype=int32)\n"
     ]
    }
   ],
   "source": [
    "print(tf.constant(2) + tf.constant(2))\n",
    "print(tf.constant(2) - tf.constant(2))\n",
    "print(tf.add(tf.constant(2), tf.constant(2)))\n",
    "print(tf.subtract(tf.constant(2), tf.constant(2)))"
   ]
  },
  {
   "cell_type": "code",
   "execution_count": 18,
   "metadata": {},
   "outputs": [
    {
     "name": "stdout",
     "output_type": "stream",
     "text": [
      "tf.Tensor(4, shape=(), dtype=int32)\n",
      "tf.Tensor(1.0, shape=(), dtype=float64)\n",
      "tf.Tensor(4, shape=(), dtype=int32)\n",
      "tf.Tensor(1.0, shape=(), dtype=float64)\n"
     ]
    }
   ],
   "source": [
    "print(tf.constant(2) * tf.constant(2))\n",
    "print(tf.constant(2) / tf.constant(2))\n",
    "print(tf.multiply(tf.constant(2), tf.constant(2)))\n",
    "print(tf.divide(tf.constant(2), tf.constant(2)))"
   ]
  },
  {
   "cell_type": "code",
   "execution_count": 19,
   "metadata": {},
   "outputs": [
    {
     "name": "stdout",
     "output_type": "stream",
     "text": [
      "tf.Tensor(4.2, shape=(), dtype=float32)\n"
     ]
    }
   ],
   "source": [
    "# 타입을 맞춰준 뒤 연산\n",
    "print(tf.cast(tf.constant(2), tf.float32) + tf.constant(2.2))"
   ]
  },
  {
   "cell_type": "markdown",
   "metadata": {},
   "source": [
    "### 1차원 이상의 Tensor 연산"
   ]
  },
  {
   "cell_type": "code",
   "execution_count": 20,
   "metadata": {},
   "outputs": [
    {
     "name": "stdout",
     "output_type": "stream",
     "text": [
      "tf.Tensor([5 7 9], shape=(3,), dtype=int32)\n",
      "tf.Tensor([-3 -3 -3], shape=(3,), dtype=int32)\n",
      "tf.Tensor([ 4 10 18], shape=(3,), dtype=int32)\n",
      "tf.Tensor([0.25 0.4  0.5 ], shape=(3,), dtype=float64)\n"
     ]
    }
   ],
   "source": [
    "x = tf.constant([1,2,3])\n",
    "y = tf.constant([4,5,6])\n",
    "\n",
    "print(x + y)\n",
    "print(x - y)\n",
    "print(x * y)\n",
    "print(x / y)"
   ]
  },
  {
   "cell_type": "code",
   "execution_count": 22,
   "metadata": {},
   "outputs": [
    {
     "name": "stdout",
     "output_type": "stream",
     "text": [
      "(2, 2)\n",
      "(2, 2)\n",
      "tf.Tensor(\n",
      "[[ 5  7]\n",
      " [ 9 11]], shape=(2, 2), dtype=int32)\n",
      "tf.Tensor(\n",
      "[[-3 -3]\n",
      " [-3 -3]], shape=(2, 2), dtype=int32)\n",
      "tf.Tensor(\n",
      "[[ 4 10]\n",
      " [18 28]], shape=(2, 2), dtype=int32)\n",
      "tf.Tensor(\n",
      "[[16 19]\n",
      " [36 43]], shape=(2, 2), dtype=int32)\n",
      "tf.Tensor(\n",
      "[[0.25       0.4       ]\n",
      " [0.5        0.57142857]], shape=(2, 2), dtype=float64)\n"
     ]
    }
   ],
   "source": [
    "a = tf.constant([[1,2],[3,4]])\n",
    "b = tf.constant([[4,5],[6,7]])\n",
    "\n",
    "print(a.shape)\n",
    "print(b.shape)\n",
    "\n",
    "print(a + b) # element-wise addition\n",
    "print(a - b) # element-wise subtraction\n",
    "print(a * b) # element-wise multiplication\n",
    "print(a @ b) # matrix multiplication\n",
    "print(a / b) # element-wise division\n",
    "\n",
    "# print(tf.add(a, b))\n",
    "# print(tf.subtract(a, b))\n",
    "# print(tf.multiply(a, b))\n",
    "# print(tf.matmul(a, b))\n",
    "# print(tf.divide(a, b))"
   ]
  },
  {
   "cell_type": "code",
   "execution_count": 23,
   "metadata": {},
   "outputs": [
    {
     "name": "stdout",
     "output_type": "stream",
     "text": [
      "tf.Tensor(10.0, shape=(), dtype=float32)\n",
      "tf.Tensor([1 1 1], shape=(3,), dtype=int64)\n",
      "tf.Tensor(\n",
      "[[0.09003057 0.24472848 0.66524094]\n",
      " [0.66524094 0.24472848 0.09003057]], shape=(2, 3), dtype=float32)\n"
     ]
    }
   ],
   "source": [
    "c = tf.constant([[4.0, 5.0, 6.0], \n",
    "                 [10.0, 9.0, 8.0]])\n",
    "\n",
    "print(tf.reduce_max(c))\n",
    "# 최대값 반환\n",
    "print(tf.argmax(c))\n",
    "# 최대값의 위치를 반환\n",
    "print(tf.nn.softmax(c))\n",
    "# softmax 취하기"
   ]
  },
  {
   "cell_type": "code",
   "execution_count": 34,
   "metadata": {},
   "outputs": [
    {
     "ename": "InvalidArgumentError",
     "evalue": "Input to reshape is a tensor with 8 values, but the requested shape has 3 [Op:Reshape]",
     "output_type": "error",
     "traceback": [
      "\u001b[0;31m---------------------------------------------------------------------------\u001b[0m",
      "\u001b[0;31mInvalidArgumentError\u001b[0m                      Traceback (most recent call last)",
      "\u001b[1;32m/Users/sanghyun/Desktop/Coding/00.Todo/Aiffel/node/whatisTensor.ipynb 셀 24\u001b[0m in \u001b[0;36m<cell line: 5>\u001b[0;34m()\u001b[0m\n\u001b[1;32m      <a href='vscode-notebook-cell:/Users/sanghyun/Desktop/Coding/00.Todo/Aiffel/node/whatisTensor.ipynb#X32sZmlsZQ%3D%3D?line=1'>2</a>\u001b[0m b \u001b[39m=\u001b[39m tf\u001b[39m.\u001b[39mconstant([[\u001b[39m1.\u001b[39m, \u001b[39m2.\u001b[39m, \u001b[39m3.\u001b[39m, \u001b[39m4.\u001b[39m, \u001b[39m5.\u001b[39m, \u001b[39m6.\u001b[39m, \u001b[39m7.\u001b[39m, \u001b[39m8.\u001b[39m]])\n\u001b[1;32m      <a href='vscode-notebook-cell:/Users/sanghyun/Desktop/Coding/00.Todo/Aiffel/node/whatisTensor.ipynb#X32sZmlsZQ%3D%3D?line=3'>4</a>\u001b[0m \u001b[39m# Q. 위에 있는 2개의 텐서를 행렬곱연산이 가능하도록 3차원 텐서로 변환해주세요.\u001b[39;00m\n\u001b[0;32m----> <a href='vscode-notebook-cell:/Users/sanghyun/Desktop/Coding/00.Todo/Aiffel/node/whatisTensor.ipynb#X32sZmlsZQ%3D%3D?line=4'>5</a>\u001b[0m a \u001b[39m=\u001b[39m tf\u001b[39m.\u001b[39;49mreshape(a,[\u001b[39m3\u001b[39;49m,\u001b[39m1\u001b[39;49m])\n\u001b[1;32m      <a href='vscode-notebook-cell:/Users/sanghyun/Desktop/Coding/00.Todo/Aiffel/node/whatisTensor.ipynb#X32sZmlsZQ%3D%3D?line=5'>6</a>\u001b[0m \u001b[39mprint\u001b[39m(a\u001b[39m.\u001b[39mshape)\n\u001b[1;32m      <a href='vscode-notebook-cell:/Users/sanghyun/Desktop/Coding/00.Todo/Aiffel/node/whatisTensor.ipynb#X32sZmlsZQ%3D%3D?line=6'>7</a>\u001b[0m \u001b[39mprint\u001b[39m(b\u001b[39m.\u001b[39mshape)\n",
      "File \u001b[0;32m~/miniforge3/envs/yeardream/lib/python3.8/site-packages/tensorflow/python/util/traceback_utils.py:153\u001b[0m, in \u001b[0;36mfilter_traceback.<locals>.error_handler\u001b[0;34m(*args, **kwargs)\u001b[0m\n\u001b[1;32m    151\u001b[0m \u001b[39mexcept\u001b[39;00m \u001b[39mException\u001b[39;00m \u001b[39mas\u001b[39;00m e:\n\u001b[1;32m    152\u001b[0m   filtered_tb \u001b[39m=\u001b[39m _process_traceback_frames(e\u001b[39m.\u001b[39m__traceback__)\n\u001b[0;32m--> 153\u001b[0m   \u001b[39mraise\u001b[39;00m e\u001b[39m.\u001b[39mwith_traceback(filtered_tb) \u001b[39mfrom\u001b[39;00m \u001b[39mNone\u001b[39m\n\u001b[1;32m    154\u001b[0m \u001b[39mfinally\u001b[39;00m:\n\u001b[1;32m    155\u001b[0m   \u001b[39mdel\u001b[39;00m filtered_tb\n",
      "File \u001b[0;32m~/miniforge3/envs/yeardream/lib/python3.8/site-packages/tensorflow/python/eager/execute.py:54\u001b[0m, in \u001b[0;36mquick_execute\u001b[0;34m(op_name, num_outputs, inputs, attrs, ctx, name)\u001b[0m\n\u001b[1;32m     52\u001b[0m \u001b[39mtry\u001b[39;00m:\n\u001b[1;32m     53\u001b[0m   ctx\u001b[39m.\u001b[39mensure_initialized()\n\u001b[0;32m---> 54\u001b[0m   tensors \u001b[39m=\u001b[39m pywrap_tfe\u001b[39m.\u001b[39mTFE_Py_Execute(ctx\u001b[39m.\u001b[39m_handle, device_name, op_name,\n\u001b[1;32m     55\u001b[0m                                       inputs, attrs, num_outputs)\n\u001b[1;32m     56\u001b[0m \u001b[39mexcept\u001b[39;00m core\u001b[39m.\u001b[39m_NotOkStatusException \u001b[39mas\u001b[39;00m e:\n\u001b[1;32m     57\u001b[0m   \u001b[39mif\u001b[39;00m name \u001b[39mis\u001b[39;00m \u001b[39mnot\u001b[39;00m \u001b[39mNone\u001b[39;00m:\n",
      "\u001b[0;31mInvalidArgumentError\u001b[0m: Input to reshape is a tensor with 8 values, but the requested shape has 3 [Op:Reshape]"
     ]
    }
   ],
   "source": [
    "a = tf.constant([1, 2, 3, 4, 5, 6, 7, 8]) \n",
    "b = tf.constant([[1., 2., 3., 4., 5., 6., 7., 8.]])\n",
    "\n",
    "# Q. 위에 있는 2개의 텐서를 행렬곱연산이 가능하도록 3차원 텐서로 변환해주세요.\n",
    "a = tf.reshape(a,[3,1])\n",
    "print(a.shape)\n",
    "print(b.shape)\n",
    "#tf.cast(b,tf.int32)\n",
    "\n",
    "#print(a@b)"
   ]
  },
  {
   "cell_type": "code",
   "execution_count": null,
   "metadata": {},
   "outputs": [],
   "source": []
  }
 ],
 "metadata": {
  "kernelspec": {
   "display_name": "yeardream",
   "language": "python",
   "name": "python3"
  },
  "language_info": {
   "codemirror_mode": {
    "name": "ipython",
    "version": 3
   },
   "file_extension": ".py",
   "mimetype": "text/x-python",
   "name": "python",
   "nbconvert_exporter": "python",
   "pygments_lexer": "ipython3",
   "version": "3.8.13"
  },
  "orig_nbformat": 4
 },
 "nbformat": 4,
 "nbformat_minor": 2
}
