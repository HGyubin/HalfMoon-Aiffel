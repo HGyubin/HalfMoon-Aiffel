{
 "cells": [
  {
   "cell_type": "markdown",
   "metadata": {},
   "source": [
    "## Default"
   ]
  },
  {
   "cell_type": "code",
   "execution_count": 1,
   "metadata": {},
   "outputs": [
    {
     "name": "stdout",
     "output_type": "stream",
     "text": [
      "2.9.1\n",
      "1.23.1\n",
      "3.5.2\n",
      "0.6.0\n"
     ]
    }
   ],
   "source": [
    "import tensorflow as tf\n",
    "import numpy as np\n",
    "import matplotlib as plt\n",
    "import konlpy\n",
    "\n",
    "print(tf.__version__)\n",
    "print(np.__version__)\n",
    "print(plt.__version__)\n",
    "print(konlpy.__version__)"
   ]
  },
  {
   "cell_type": "markdown",
   "metadata": {},
   "source": [
    "[Naver 영화리뷰 감정 분석 Task](https://github.com/e9t/nsmc/)"
   ]
  },
  {
   "cell_type": "markdown",
   "metadata": {},
   "source": [
    "한국어로 된 corpus를 다루어야 하므로 주로 KoNLPy에서 제공하는 형태소 분석기를 사용하여 텍스트를 전처리해서 RNN 모델을 분류기로 사용하게 되는데요.\n",
    "\n",
    "만약 이 문제에서 tokenizer를 SentencePiece로 바꾸어 다시 풀어본다면 더 성능이 좋아질까요?\n",
    "KoNLPy에 있는 Mecab, kkma, Okt 등과 비교해보세요.\n",
    "\n",
    "(여러분들은 fasttext(https://wikidocs.net/22883)로\n",
    "사전훈련된 Word Vector를 사용할 수 있지만 sentencepiece와 KoNLPy에 있는\n",
    "형태소로 모델을 만드는 것보다 코드 수정이 많이 일어납니다.\n",
    "\n",
    "\n",
    "기본적인 태스크를 끝나고(sentencepiece - KoNLPy 형태소 비교) 도전하시는걸 추천합니다.)\n",
    "\n",
    "- 네이버 영화리뷰 감정 분석 코퍼스에 SentencePiece를 적용시킨 모델 학습하기\n",
    "- 학습된 모델로 sp_tokenize() 메소드 구현하기\n",
    "- 구현된 토크나이저를 적용하여 네이버 영화리뷰 감정 분석 모델을 재학습하기\n",
    "- KoNLPy 형태소 분석기를 사용한 모델과 성능 비교하기\n",
    "- SentencePiece 모델의 model_type, vocab_size 등을 변경해 가면서 성능 개선 여부 확인하기"
   ]
  },
  {
   "cell_type": "markdown",
   "metadata": {},
   "source": [
    "<img src=\"./img/evaluation.png\">"
   ]
  },
  {
   "cell_type": "code",
   "execution_count": 2,
   "metadata": {},
   "outputs": [],
   "source": [
    "def tokenize(corpus):  # corpus: Tokenized Sentence's List\n",
    "    tokenizer = tf.keras.preprocessing.text.Tokenizer(filters='')\n",
    "    tokenizer.fit_on_texts(corpus)\n",
    "\n",
    "    tensor = tokenizer.texts_to_sequences(corpus)\n",
    "\n",
    "    tensor = tf.keras.preprocessing.sequence.pad_sequences(tensor, padding='post')\n",
    "\n",
    "    return tensor, tokenizer"
   ]
  },
  {
   "cell_type": "code",
   "execution_count": 3,
   "metadata": {},
   "outputs": [
    {
     "name": "stdout",
     "output_type": "stream",
     "text": [
      "Data Size: 94123\n"
     ]
    }
   ],
   "source": [
    "import os \n",
    "path_to_file = './data/korean-english-park.train.ko'\n",
    "\n",
    "with open(path_to_file, 'r') as f:\n",
    "    raw = f.read().splitlines()\n",
    "\n",
    "print(\"Data Size:\", len(raw))"
   ]
  },
  {
   "cell_type": "markdown",
   "metadata": {},
   "source": [
    "## Naver Movie Review"
   ]
  },
  {
   "cell_type": "code",
   "execution_count": 4,
   "metadata": {},
   "outputs": [],
   "source": [
    "import requests\n",
    "\n",
    "url = 'https://raw.githubusercontent.com/e9t/nsmc/master/ratings.txt'\n",
    "\n",
    "with open('./data/ratings.txt', \"wb\") as file:\n",
    "    res = requests.get(url)\n",
    "    file.write(res.content)"
   ]
  },
  {
   "cell_type": "code",
   "execution_count": 5,
   "metadata": {},
   "outputs": [
    {
     "data": {
      "text/html": [
       "<div>\n",
       "<style scoped>\n",
       "    .dataframe tbody tr th:only-of-type {\n",
       "        vertical-align: middle;\n",
       "    }\n",
       "\n",
       "    .dataframe tbody tr th {\n",
       "        vertical-align: top;\n",
       "    }\n",
       "\n",
       "    .dataframe thead th {\n",
       "        text-align: right;\n",
       "    }\n",
       "</style>\n",
       "<table border=\"1\" class=\"dataframe\">\n",
       "  <thead>\n",
       "    <tr style=\"text-align: right;\">\n",
       "      <th></th>\n",
       "      <th>id</th>\n",
       "      <th>document</th>\n",
       "      <th>label</th>\n",
       "    </tr>\n",
       "  </thead>\n",
       "  <tbody>\n",
       "    <tr>\n",
       "      <th>0</th>\n",
       "      <td>9976970</td>\n",
       "      <td>아 더빙.. 진짜 짜증나네요 목소리</td>\n",
       "      <td>0</td>\n",
       "    </tr>\n",
       "    <tr>\n",
       "      <th>1</th>\n",
       "      <td>3819312</td>\n",
       "      <td>흠...포스터보고 초딩영화줄....오버연기조차 가볍지 않구나</td>\n",
       "      <td>1</td>\n",
       "    </tr>\n",
       "    <tr>\n",
       "      <th>2</th>\n",
       "      <td>10265843</td>\n",
       "      <td>너무재밓었다그래서보는것을추천한다</td>\n",
       "      <td>0</td>\n",
       "    </tr>\n",
       "    <tr>\n",
       "      <th>3</th>\n",
       "      <td>9045019</td>\n",
       "      <td>교도소 이야기구먼 ..솔직히 재미는 없다..평점 조정</td>\n",
       "      <td>0</td>\n",
       "    </tr>\n",
       "    <tr>\n",
       "      <th>4</th>\n",
       "      <td>6483659</td>\n",
       "      <td>사이몬페그의 익살스런 연기가 돋보였던 영화!스파이더맨에서 늙어보이기만 했던 커스틴 ...</td>\n",
       "      <td>1</td>\n",
       "    </tr>\n",
       "  </tbody>\n",
       "</table>\n",
       "</div>"
      ],
      "text/plain": [
       "         id                                           document  label\n",
       "0   9976970                                아 더빙.. 진짜 짜증나네요 목소리      0\n",
       "1   3819312                  흠...포스터보고 초딩영화줄....오버연기조차 가볍지 않구나      1\n",
       "2  10265843                                  너무재밓었다그래서보는것을추천한다      0\n",
       "3   9045019                      교도소 이야기구먼 ..솔직히 재미는 없다..평점 조정      0\n",
       "4   6483659  사이몬페그의 익살스런 연기가 돋보였던 영화!스파이더맨에서 늙어보이기만 했던 커스틴 ...      1"
      ]
     },
     "execution_count": 5,
     "metadata": {},
     "output_type": "execute_result"
    }
   ],
   "source": [
    "import pandas as pd\n",
    "\n",
    "df = pd.read_table('./data/ratings.txt', encoding='utf-8')\n",
    "df = df.dropna(how='any')\n",
    "df = df.drop_duplicates(['document'])\n",
    "\n",
    "train = pd.read_table('./data/ratings_train.txt')\n",
    "train.head()"
   ]
  },
  {
   "cell_type": "code",
   "execution_count": 6,
   "metadata": {},
   "outputs": [
    {
     "data": {
      "text/html": [
       "<div>\n",
       "<style scoped>\n",
       "    .dataframe tbody tr th:only-of-type {\n",
       "        vertical-align: middle;\n",
       "    }\n",
       "\n",
       "    .dataframe tbody tr th {\n",
       "        vertical-align: top;\n",
       "    }\n",
       "\n",
       "    .dataframe thead th {\n",
       "        text-align: right;\n",
       "    }\n",
       "</style>\n",
       "<table border=\"1\" class=\"dataframe\">\n",
       "  <thead>\n",
       "    <tr style=\"text-align: right;\">\n",
       "      <th></th>\n",
       "      <th>id</th>\n",
       "      <th>document</th>\n",
       "      <th>label</th>\n",
       "    </tr>\n",
       "  </thead>\n",
       "  <tbody>\n",
       "    <tr>\n",
       "      <th>0</th>\n",
       "      <td>6270596</td>\n",
       "      <td>굳 ㅋ</td>\n",
       "      <td>1</td>\n",
       "    </tr>\n",
       "    <tr>\n",
       "      <th>1</th>\n",
       "      <td>9274899</td>\n",
       "      <td>GDNTOPCLASSINTHECLUB</td>\n",
       "      <td>0</td>\n",
       "    </tr>\n",
       "    <tr>\n",
       "      <th>2</th>\n",
       "      <td>8544678</td>\n",
       "      <td>뭐야 이 평점들은.... 나쁘진 않지만 10점 짜리는 더더욱 아니잖아</td>\n",
       "      <td>0</td>\n",
       "    </tr>\n",
       "    <tr>\n",
       "      <th>3</th>\n",
       "      <td>6825595</td>\n",
       "      <td>지루하지는 않은데 완전 막장임... 돈주고 보기에는....</td>\n",
       "      <td>0</td>\n",
       "    </tr>\n",
       "    <tr>\n",
       "      <th>4</th>\n",
       "      <td>6723715</td>\n",
       "      <td>3D만 아니었어도 별 다섯 개 줬을텐데.. 왜 3D로 나와서 제 심기를 불편하게 하죠??</td>\n",
       "      <td>0</td>\n",
       "    </tr>\n",
       "  </tbody>\n",
       "</table>\n",
       "</div>"
      ],
      "text/plain": [
       "        id                                           document  label\n",
       "0  6270596                                                굳 ㅋ      1\n",
       "1  9274899                               GDNTOPCLASSINTHECLUB      0\n",
       "2  8544678             뭐야 이 평점들은.... 나쁘진 않지만 10점 짜리는 더더욱 아니잖아      0\n",
       "3  6825595                   지루하지는 않은데 완전 막장임... 돈주고 보기에는....      0\n",
       "4  6723715  3D만 아니었어도 별 다섯 개 줬을텐데.. 왜 3D로 나와서 제 심기를 불편하게 하죠??      0"
      ]
     },
     "execution_count": 6,
     "metadata": {},
     "output_type": "execute_result"
    }
   ],
   "source": [
    "test = pd.read_table('./data/ratings_test.txt')\n",
    "test.head()"
   ]
  },
  {
   "cell_type": "code",
   "execution_count": 7,
   "metadata": {},
   "outputs": [
    {
     "data": {
      "text/plain": [
       "'total: 194543'"
      ]
     },
     "execution_count": 7,
     "metadata": {},
     "output_type": "execute_result"
    }
   ],
   "source": [
    "f'total: {len(df)}'"
   ]
  },
  {
   "cell_type": "code",
   "execution_count": 8,
   "metadata": {},
   "outputs": [],
   "source": [
    "train = train.dropna(how='any')\n",
    "train = train.drop_duplicates(['document'])\n",
    "# test = test.dropna(how='any')\n",
    "# test = test.drop_duplicates(['document'])\n",
    "\n",
    "X_train = train['document'].values\n",
    "y_train = train['label'].values\n",
    "X_test = test['document'].values\n",
    "y_test = test['label'].values"
   ]
  },
  {
   "cell_type": "code",
   "execution_count": 9,
   "metadata": {},
   "outputs": [
    {
     "data": {
      "text/plain": [
       "array(['아 더빙.. 진짜 짜증나네요 목소리', '흠...포스터보고 초딩영화줄....오버연기조차 가볍지 않구나',\n",
       "       '너무재밓었다그래서보는것을추천한다', ..., '이게 뭐요? 한국인은 거들먹거리고 필리핀 혼혈은 착하다?',\n",
       "       '청춘 영화의 최고봉.방황과 우울했던 날들의 자화상', '한국 영화 최초로 수간하는 내용이 담긴 영화'],\n",
       "      dtype=object)"
      ]
     },
     "execution_count": 9,
     "metadata": {},
     "output_type": "execute_result"
    }
   ],
   "source": [
    "X_train"
   ]
  },
  {
   "cell_type": "code",
   "execution_count": 10,
   "metadata": {},
   "outputs": [
    {
     "name": "stdout",
     "output_type": "stream",
     "text": [
      "146182 [73342 72840]\n"
     ]
    }
   ],
   "source": [
    "print(len(X_train), np.bincount(y_train))"
   ]
  },
  {
   "cell_type": "code",
   "execution_count": 11,
   "metadata": {},
   "outputs": [
    {
     "name": "stdout",
     "output_type": "stream",
     "text": [
      "50000 [24827 25173]\n"
     ]
    }
   ],
   "source": [
    "print(len(X_test), np.bincount(y_test))"
   ]
  },
  {
   "cell_type": "markdown",
   "metadata": {},
   "source": [
    "### Processing"
   ]
  },
  {
   "cell_type": "code",
   "execution_count": 12,
   "metadata": {},
   "outputs": [
    {
     "data": {
      "text/plain": [
       "id          0\n",
       "document    0\n",
       "label       0\n",
       "dtype: int64"
      ]
     },
     "execution_count": 12,
     "metadata": {},
     "output_type": "execute_result"
    }
   ],
   "source": [
    "df.isnull().sum()"
   ]
  },
  {
   "cell_type": "code",
   "execution_count": 13,
   "metadata": {},
   "outputs": [
    {
     "data": {
      "text/plain": [
       "id          0\n",
       "document    0\n",
       "label       0\n",
       "dtype: int64"
      ]
     },
     "execution_count": 13,
     "metadata": {},
     "output_type": "execute_result"
    }
   ],
   "source": [
    "# 결측치 8개 제거\n",
    "\n",
    "df = df.dropna(how='any')\n",
    "\n",
    "df.isnull().sum()"
   ]
  },
  {
   "cell_type": "code",
   "execution_count": 14,
   "metadata": {},
   "outputs": [
    {
     "data": {
      "text/plain": [
       "'total: 194543'"
      ]
     },
     "execution_count": 14,
     "metadata": {},
     "output_type": "execute_result"
    }
   ],
   "source": [
    "f'total: {len(df)}'"
   ]
  },
  {
   "cell_type": "code",
   "execution_count": 15,
   "metadata": {},
   "outputs": [],
   "source": [
    "df = df.drop_duplicates(['document'])"
   ]
  },
  {
   "cell_type": "code",
   "execution_count": 16,
   "metadata": {},
   "outputs": [
    {
     "data": {
      "text/plain": [
       "'total: 194543'"
      ]
     },
     "execution_count": 16,
     "metadata": {},
     "output_type": "execute_result"
    }
   ],
   "source": [
    "f'total: {len(df)}'\n",
    "\n",
    "\n",
    "# 중복값 5449개 제거"
   ]
  },
  {
   "cell_type": "markdown",
   "metadata": {},
   "source": [
    "### Vis"
   ]
  },
  {
   "cell_type": "code",
   "execution_count": 17,
   "metadata": {},
   "outputs": [],
   "source": [
    "import matplotlib.pyplot as plt\n",
    "import numpy as np\n",
    "\n",
    "def show_distribution(_df, key):\n",
    "    total = list(map(lambda it: len(it), _df[key]))\n",
    "\n",
    "    print(f'최대: {np.max(total)}')\n",
    "    print(f'최소: {np.min(total)}')\n",
    "    print(f'평균: {np.mean(total)}')\n",
    "\n",
    "    plt.figure(figsize = (12,5))\n",
    "    plt.hist(total, bins=50, alpha=0.5, color=\"b\")\n",
    "    plt.xlabel('length of sample')\n",
    "    plt.ylabel('number of sample')\n",
    "    plt.show()"
   ]
  },
  {
   "cell_type": "code",
   "execution_count": 18,
   "metadata": {},
   "outputs": [
    {
     "name": "stdout",
     "output_type": "stream",
     "text": [
      "최대: 142\n",
      "최소: 1\n",
      "평균: 36.0423453940774\n"
     ]
    },
    {
     "data": {
      "image/png": "[encoded data removed]",
      "text/plain": [
       "<Figure size 1200x500 with 1 Axes>"
      ]
     },
     "metadata": {},
     "output_type": "display_data"
    }
   ],
   "source": [
    "show_distribution(df, 'document')"
   ]
  },
  {
   "cell_type": "code",
   "execution_count": 19,
   "metadata": {},
   "outputs": [],
   "source": [
    "## Max_len 찾기\n",
    "\n",
    "def below_threshold_len(_df, key, max_len):\n",
    "    total = df[key]\n",
    "    _list = list(filter(lambda it: len(it) <= max_len, total))\n",
    "    print(f'전체 샘플 중 길이가 {max_len} 이하인 샘플의 비율: {len(_list)/len(total)}')"
   ]
  },
  {
   "cell_type": "code",
   "execution_count": 20,
   "metadata": {},
   "outputs": [
    {
     "name": "stdout",
     "output_type": "stream",
     "text": [
      "전체 샘플 중 길이가 0 이하인 샘플의 비율: 0.0\n",
      "전체 샘플 중 길이가 10 이하인 샘플의 비율: 0.0834057252124209\n",
      "전체 샘플 중 길이가 20 이하인 샘플의 비율: 0.35149555625234524\n",
      "전체 샘플 중 길이가 30 이하인 샘플의 비율: 0.5596706126666084\n",
      "전체 샘플 중 길이가 40 이하인 샘플의 비율: 0.717933824398719\n",
      "전체 샘플 중 길이가 50 이하인 샘플의 비율: 0.8205640912291884\n",
      "전체 샘플 중 길이가 60 이하인 샘플의 비율: 0.8586739178484962\n",
      "전체 샘플 중 길이가 70 이하인 샘플의 비율: 0.8866523082300571\n",
      "전체 샘플 중 길이가 80 이하인 샘플의 비율: 0.9084726769917191\n",
      "전체 샘플 중 길이가 90 이하인 샘플의 비율: 0.9264995399474666\n",
      "전체 샘플 중 길이가 100 이하인 샘플의 비율: 0.9405529882853663\n",
      "전체 샘플 중 길이가 110 이하인 샘플의 비율: 0.9519849082208046\n",
      "전체 샘플 중 길이가 120 이하인 샘플의 비율: 0.9620289601784695\n",
      "전체 샘플 중 길이가 130 이하인 샘플의 비율: 0.9730239587134978\n"
     ]
    }
   ],
   "source": [
    "\n",
    "for _len in list(range(0, 140, 10)):\n",
    "    below_threshold_len(df, 'document', _len)"
   ]
  },
  {
   "cell_type": "code",
   "execution_count": 21,
   "metadata": {},
   "outputs": [],
   "source": [
    "df = df[df['document'].apply(lambda it: len(it) >= 10)]\n",
    "df = df[df['document'].apply(lambda it: len(it) <= 80)]"
   ]
  },
  {
   "cell_type": "code",
   "execution_count": 22,
   "metadata": {},
   "outputs": [
    {
     "name": "stdout",
     "output_type": "stream",
     "text": [
      "최대: 80\n",
      "최소: 10\n",
      "평균: 30.02943437671609\n"
     ]
    },
    {
     "data": {
      "image/png": "[encoded data removed]",
      "text/plain": [
       "<Figure size 1200x500 with 1 Axes>"
      ]
     },
     "metadata": {},
     "output_type": "display_data"
    }
   ],
   "source": [
    "show_distribution(df, 'document')"
   ]
  },
  {
   "cell_type": "markdown",
   "metadata": {},
   "source": [
    "## SentencePiece"
   ]
  },
  {
   "cell_type": "code",
   "execution_count": 23,
   "metadata": {},
   "outputs": [
    {
     "data": {
      "text/plain": [
       "{'unigram_2k': {'model_type': 'unigram', 'vocab_size': 2000},\n",
       " 'unigram_4k': {'model_type': 'unigram', 'vocab_size': 4000},\n",
       " 'unigram_6k': {'model_type': 'unigram', 'vocab_size': 6000},\n",
       " 'unigram_8k': {'model_type': 'unigram', 'vocab_size': 8000},\n",
       " 'unigram_10k': {'model_type': 'unigram', 'vocab_size': 10000},\n",
       " 'bpe_2k': {'model_type': 'bpe', 'vocab_size': 2000},\n",
       " 'bpe_4k': {'model_type': 'bpe', 'vocab_size': 4000},\n",
       " 'bpe_6k': {'model_type': 'bpe', 'vocab_size': 6000},\n",
       " 'bpe_8k': {'model_type': 'bpe', 'vocab_size': 8000},\n",
       " 'bpe_10k': {'model_type': 'bpe', 'vocab_size': 10000},\n",
       " 'char_2k': {'model_type': 'char', 'vocab_size': 2000},\n",
       " 'char_4k': {'model_type': 'char', 'vocab_size': 4000},\n",
       " 'char_6k': {'model_type': 'char', 'vocab_size': 6000},\n",
       " 'char_8k': {'model_type': 'char', 'vocab_size': 8000},\n",
       " 'char_10k': {'model_type': 'char', 'vocab_size': 10000},\n",
       " 'word_2k': {'model_type': 'word', 'vocab_size': 2000},\n",
       " 'word_4k': {'model_type': 'word', 'vocab_size': 4000},\n",
       " 'word_6k': {'model_type': 'word', 'vocab_size': 6000},\n",
       " 'word_8k': {'model_type': 'word', 'vocab_size': 8000},\n",
       " 'word_10k': {'model_type': 'word', 'vocab_size': 10000}}"
      ]
     },
     "execution_count": 23,
     "metadata": {},
     "output_type": "execute_result"
    }
   ],
   "source": [
    "models = {}\n",
    "\n",
    "for model_type in ['unigram', 'bpe', 'char', 'word']:\n",
    "    for vocab_size in [2000, 4000, 6000, 8000, 10000]:\n",
    "        \n",
    "        model_prefix = f'{model_type}_{str(vocab_size // 1000) + \"k\"}'\n",
    "        models[model_prefix] = {}\n",
    "        \n",
    "        models[model_prefix]['model_type'] = model_type\n",
    "        models[model_prefix]['vocab_size'] = vocab_size\n",
    "\n",
    "models"
   ]
  },
  {
   "cell_type": "code",
   "execution_count": 24,
   "metadata": {},
   "outputs": [],
   "source": [
    "import sentencepiece as spm\n",
    "\n",
    "def TrainSentencePiece(model_prefix, model_type='unigram', vocab_size = 8000):\n",
    "    spm.SentencePieceTrainer.Train(\n",
    "        '--input={} --model_prefix={} --model_type={} --vocab_size={}'.format(\n",
    "            temp_file, model_prefix, model_type, vocab_size)    \n",
    "    ) \n",
    "    return tensor, word_index, index_word"
   ]
  },
  {
   "cell_type": "code",
   "execution_count": 25,
   "metadata": {},
   "outputs": [],
   "source": [
    "s = spm.SentencePieceProcessor()\n",
    "s.Load('korean_spm.model')\n",
    "\n",
    "def sp_tokenize(s, corpus):\n",
    "    tensor = []\n",
    "    \n",
    "    for sen in corpus:\n",
    "        tensor.append(s.EncodeAsIds(sen))\n",
    "    \n",
    "    with open(\"./korean_spm.vocab\", 'r') as f:\n",
    "        vocab = f.readlines()\n",
    "        \n",
    "    word_index = {}\n",
    "    index_word = {}\n",
    "\n",
    "    for idx, line in enumerate(vocab):\n",
    "        word = line.split(\"\\t\")[0]\n",
    "\n",
    "        word_index.update({word:idx})\n",
    "        index_word.update({idx:word})\n",
    "\n",
    "    tensor = tf.keras.preprocessing.sequence.pad_sequences(tensor, padding='post')\n",
    "\n",
    "    return tensor, word_index, index_word"
   ]
  },
  {
   "cell_type": "code",
   "execution_count": 30,
   "metadata": {},
   "outputs": [
    {
     "name": "stdout",
     "output_type": "stream",
     "text": [
      "Model: \"sequential_1\"\n",
      "_________________________________________________________________\n",
      " Layer (type)                Output Shape              Param #   \n",
      "=================================================================\n",
      " embedding_1 (Embedding)     (None, None, 32)          320000    \n",
      "                                                                 \n",
      " lstm_1 (LSTM)               (None, 64)                24832     \n",
      "                                                                 \n",
      " dense_1 (Dense)             (None, 1)                 65        \n",
      "                                                                 \n",
      "=================================================================\n",
      "Total params: 344,897\n",
      "Trainable params: 344,897\n",
      "Non-trainable params: 0\n",
      "_________________________________________________________________\n",
      "Epoch 1/20\n",
      "1639/1639 [==============================] - 64s 38ms/step - loss: 0.6928 - accuracy: 0.5050 - val_loss: 0.6934 - val_accuracy: 0.4967\n",
      "Epoch 2/20\n",
      "1639/1639 [==============================] - 69s 42ms/step - loss: 0.6876 - accuracy: 0.5158 - val_loss: 0.6933 - val_accuracy: 0.4967\n",
      "Epoch 3/20\n",
      "1639/1639 [==============================] - 67s 41ms/step - loss: 0.6935 - accuracy: 0.4998 - val_loss: 0.6933 - val_accuracy: 0.5033\n",
      "Epoch 4/20\n",
      "1639/1639 [==============================] - 66s 40ms/step - loss: 0.6933 - accuracy: 0.5034 - val_loss: 0.6933 - val_accuracy: 0.4967\n",
      "Epoch 5/20\n",
      "1639/1639 [==============================] - 65s 40ms/step - loss: 0.6940 - accuracy: 0.5011 - val_loss: 0.6938 - val_accuracy: 0.5033\n",
      "Epoch 6/20\n",
      "1639/1639 [==============================] - 64s 39ms/step - loss: 0.6938 - accuracy: 0.5019 - val_loss: 0.6964 - val_accuracy: 0.4967\n",
      "Epoch 7/20\n",
      "1639/1639 [==============================] - 65s 39ms/step - loss: 0.6938 - accuracy: 0.4970 - val_loss: 0.6931 - val_accuracy: 0.5033\n",
      "Epoch 8/20\n",
      "1639/1639 [==============================] - 65s 40ms/step - loss: 0.6789 - accuracy: 0.5437 - val_loss: 0.6423 - val_accuracy: 0.6589\n",
      "Epoch 9/20\n",
      "1639/1639 [==============================] - 64s 39ms/step - loss: 0.6232 - accuracy: 0.6708 - val_loss: 0.5725 - val_accuracy: 0.7053\n",
      "Epoch 10/20\n",
      "1639/1639 [==============================] - 64s 39ms/step - loss: 0.5451 - accuracy: 0.7284 - val_loss: 0.5158 - val_accuracy: 0.7611\n",
      "Epoch 11/20\n",
      "1639/1639 [==============================] - 64s 39ms/step - loss: 0.4882 - accuracy: 0.7692 - val_loss: 0.4562 - val_accuracy: 0.7903\n",
      "Epoch 12/20\n",
      "1639/1639 [==============================] - 63s 39ms/step - loss: 0.4275 - accuracy: 0.8102 - val_loss: 0.4173 - val_accuracy: 0.8152\n",
      "Epoch 13/20\n",
      "1639/1639 [==============================] - 63s 39ms/step - loss: 0.3872 - accuracy: 0.8297 - val_loss: 0.3985 - val_accuracy: 0.8250\n",
      "Epoch 14/20\n",
      "1639/1639 [==============================] - 63s 38ms/step - loss: 0.3589 - accuracy: 0.8426 - val_loss: 0.3757 - val_accuracy: 0.8332\n",
      "Epoch 15/20\n",
      "1639/1639 [==============================] - 63s 38ms/step - loss: 0.4511 - accuracy: 0.7830 - val_loss: 0.6220 - val_accuracy: 0.6305\n",
      "Epoch 16/20\n",
      "1639/1639 [==============================] - 63s 38ms/step - loss: 0.4715 - accuracy: 0.7806 - val_loss: 0.4377 - val_accuracy: 0.8110\n",
      "Epoch 17/20\n",
      "1639/1639 [==============================] - 62s 38ms/step - loss: 0.4321 - accuracy: 0.8140 - val_loss: 0.6468 - val_accuracy: 0.5812\n",
      "Epoch 18/20\n",
      "1639/1639 [==============================] - 65s 40ms/step - loss: 0.4983 - accuracy: 0.7582 - val_loss: 0.4494 - val_accuracy: 0.8055\n",
      "Epoch 18: early stopping\n"
     ]
    }
   ],
   "source": [
    "from sklearn.model_selection import train_test_split\n",
    "from tensorflow.keras.layers import Dense, LSTM, Embedding\n",
    "from keras.models import Sequential\n",
    "from keras.callbacks import EarlyStopping\n",
    "\n",
    "def Text_ClassifierModel(model_prefix):\n",
    "    tensor, word_index, index_word = sp_tokenize(s, df['document'])\n",
    "    x_train, x_val, y_train, y_val = train_test_split(tensor, df['label'], test_size=0.2)\n",
    "    x_train, x_test, y_train, y_test = train_test_split(x_train, y_train, test_size=0.2)\n",
    "    # 6 : 2 : 2\n",
    "    # trian : val : test\n",
    "\n",
    "    word_vector_dim = 32\n",
    "\n",
    "    model = Sequential()\n",
    "    model.add(Embedding(vocab_size, word_vector_dim))\n",
    "    model.add(LSTM(64))\n",
    "    model.add(Dense(1, activation='sigmoid'))\n",
    "\n",
    "    model.summary()\n",
    "\n",
    "    model.compile(optimizer='adam', loss='binary_crossentropy', metrics=['accuracy'])\n",
    "\n",
    "    es = EarlyStopping(monitor='val_loss', mode='min', verbose=1, patience=4)\n",
    "\n",
    "    epochs=20\n",
    "    batch_size=64\n",
    "\n",
    "    history = model.fit(\n",
    "        x_train, y_train, epochs=epochs, batch_size=batch_size,\n",
    "        validation_data=(x_val,y_val), callbacks=es, verbose=1)\n",
    "\n",
    "    \n",
    "Text_ClassifierModel(model_prefix)"
   ]
  },
  {
   "cell_type": "code",
   "execution_count": 31,
   "metadata": {},
   "outputs": [
    {
     "ename": "NameError",
     "evalue": "name 'model' is not defined",
     "output_type": "error",
     "traceback": [
      "\u001b[0;31m---------------------------------------------------------------------------\u001b[0m",
      "\u001b[0;31mNameError\u001b[0m                                 Traceback (most recent call last)",
      "\u001b[1;32m/Users/sanghyun/Desktop/Coding/00.Todo/Aiffel/NLP_GoingDeeper/3.MovieTask.ipynb 셀 35\u001b[0m in \u001b[0;36m1\n\u001b[0;32m----> <a href='vscode-notebook-cell:/Users/sanghyun/Desktop/Coding/00.Todo/Aiffel/NLP_GoingDeeper/3.MovieTask.ipynb#Y100sZmlsZQ%3D%3D?line=0'>1</a>\u001b[0m result_spm \u001b[39m=\u001b[39m model\u001b[39m.\u001b[39mevaluate(x_test, y_test, verbose\u001b[39m=\u001b[39m\u001b[39m0\u001b[39m)\n",
      "\u001b[0;31mNameError\u001b[0m: name 'model' is not defined"
     ]
    }
   ],
   "source": [
    "result_spm = model.evaluate(x_test, y_test, verbose=0)"
   ]
  },
  {
   "cell_type": "code",
   "execution_count": null,
   "metadata": {},
   "outputs": [],
   "source": [
    "result_spm"
   ]
  },
  {
   "cell_type": "markdown",
   "metadata": {},
   "source": [
    "## koNLPy"
   ]
  },
  {
   "cell_type": "code",
   "execution_count": 32,
   "metadata": {},
   "outputs": [
    {
     "name": "stdout",
     "output_type": "stream",
     "text": [
      "사이몬페그의 익살스런 연기가 돋보였던 영화!스파이더맨에서 늙어보이기만 했던 커스틴 던스트가 너무나도 이뻐보였다\n",
      "['사이', '몬페', '그', '의', '익살스런', '연기', '가', '돋보였던', '영화', '!', '스파이더맨', '에서', '늙어', '보이기만', '했던', '커스틴', '던스트', '가', '너무나도', '이뻐', '보였다']\n"
     ]
    }
   ],
   "source": [
    "from konlpy.tag import Okt\n",
    "\n",
    "okt = Okt()\n",
    "print(X_train[4])\n",
    "print(okt.morphs(X_train[4]))"
   ]
  },
  {
   "cell_type": "code",
   "execution_count": 33,
   "metadata": {},
   "outputs": [],
   "source": [
    "from konlpy.tag import Mecab\n",
    "import numpy as np\n",
    "from collections import Counter\n",
    "from sklearn.model_selection import train_test_split\n",
    "\n",
    "tokenizer = Mecab()\n",
    "stopwords = ['의','가','이','은','들','는','좀','잘','걍','과','도','를','으로','자','에','와','한','하다']\n",
    "\n",
    "def data_load(num_words=10000):\n",
    "    \n",
    "    x_train, x_val, y_train, y_val = train_test_split(df['document'], df['label'], test_size=0.2)\n",
    "    x_train, x_test, y_train, y_test = train_test_split(x_train, y_train, test_size=0.2)\n",
    "    \n",
    "    def tokenize(data):\n",
    "        result = []\n",
    "        for sentence in data:\n",
    "            temp = tokenizer.morphs(sentence)\n",
    "            temp = [word for word in temp if not word in stopwords] \n",
    "            result.append(temp)\n",
    "        return result\n",
    "   \n",
    "    X_train = tokenize(x_train)\n",
    "    X_test = tokenize(x_test)\n",
    "    X_val = tokenize(x_val)\n",
    "                                                         \n",
    "    words = np.concatenate(X_train).tolist()\n",
    "    counter = Counter(words)\n",
    "    counter = counter.most_common(10000-4)\n",
    "    vocab = ['<PAD>', '<BOS>', '<UNK>', '<UNUSED>'] + [key for key, _ in counter]\n",
    "    word_to_index = {word:index for index, word in enumerate(vocab)}\n",
    "        \n",
    "    def wordlist_to_indexlist(wordlist):\n",
    "        return [word_to_index[word] if word in word_to_index else word_to_index['<UNK>'] for word in wordlist]\n",
    "        \n",
    "    X_train = list(map(wordlist_to_indexlist, X_train))\n",
    "    X_test = list(map(wordlist_to_indexlist, X_test))\n",
    "    X_val = list(map(wordlist_to_indexlist, X_val))\n",
    "                                                                                                             \n",
    "    return X_train, y_train, X_test, y_test, X_val, y_val, word_to_index"
   ]
  },
  {
   "cell_type": "code",
   "execution_count": 34,
   "metadata": {},
   "outputs": [],
   "source": [
    "x_train, y_train, x_test, y_test, x_val, y_val, word_to_index = data_load()"
   ]
  },
  {
   "cell_type": "code",
   "execution_count": 35,
   "metadata": {},
   "outputs": [],
   "source": [
    "index_to_word = { index: word for word, index in word_to_index.items() }"
   ]
  },
  {
   "cell_type": "code",
   "execution_count": 36,
   "metadata": {},
   "outputs": [
    {
     "data": {
      "text/plain": [
       "((104889, 70), (26223, 70), (32778, 70))"
      ]
     },
     "execution_count": 36,
     "metadata": {},
     "output_type": "execute_result"
    }
   ],
   "source": [
    "import tensorflow as tf\n",
    "\n",
    "x_train = tf.keras.preprocessing.sequence.pad_sequences(x_train,\n",
    "                                                        value=word_to_index[\"<PAD>\"],\n",
    "                                                        padding='pre',\n",
    "                                                        maxlen=70)\n",
    "\n",
    "x_test = tf.keras.preprocessing.sequence.pad_sequences(x_test,\n",
    "                                                       value=word_to_index[\"<PAD>\"],\n",
    "                                                       padding='pre',\n",
    "                                                       maxlen=70)\n",
    "\n",
    "x_val = tf.keras.preprocessing.sequence.pad_sequences(x_val,\n",
    "                                                      value=word_to_index[\"<PAD>\"],\n",
    "                                                      padding='pre',\n",
    "                                                      maxlen=70)\n",
    "\n",
    "x_train.shape, x_test.shape, x_val.shape"
   ]
  },
  {
   "cell_type": "code",
   "execution_count": 37,
   "metadata": {},
   "outputs": [
    {
     "data": {
      "text/plain": [
       "((104889,), (26223,), (32778,))"
      ]
     },
     "execution_count": 37,
     "metadata": {},
     "output_type": "execute_result"
    }
   ],
   "source": [
    "y_train.shape, y_test.shape, y_val.shape"
   ]
  },
  {
   "cell_type": "code",
   "execution_count": 38,
   "metadata": {},
   "outputs": [],
   "source": [
    "vocab_size = len(word_to_index)\n",
    "word_vector_dim = 128"
   ]
  },
  {
   "cell_type": "code",
   "execution_count": 39,
   "metadata": {},
   "outputs": [
    {
     "name": "stdout",
     "output_type": "stream",
     "text": [
      "Model: \"sequential_2\"\n",
      "_________________________________________________________________\n",
      " Layer (type)                Output Shape              Param #   \n",
      "=================================================================\n",
      " embedding_2 (Embedding)     (None, None, 128)         1280000   \n",
      "                                                                 \n",
      " lstm_2 (LSTM)               (None, 64)                49408     \n",
      "                                                                 \n",
      " dense_2 (Dense)             (None, 1)                 65        \n",
      "                                                                 \n",
      "=================================================================\n",
      "Total params: 1,329,473\n",
      "Trainable params: 1,329,473\n",
      "Non-trainable params: 0\n",
      "_________________________________________________________________\n"
     ]
    }
   ],
   "source": [
    "from tensorflow.keras.layers import Dense, LSTM, Embedding\n",
    "from keras.models import Sequential\n",
    "\n",
    "model = Sequential()\n",
    "model.add(Embedding(vocab_size, word_vector_dim, input_shape=(None,)))\n",
    "model.add(LSTM(64))\n",
    "model.add(Dense(1, activation='sigmoid'))\n",
    "\n",
    "model.summary()"
   ]
  },
  {
   "cell_type": "code",
   "execution_count": 40,
   "metadata": {},
   "outputs": [
    {
     "name": "stdout",
     "output_type": "stream",
     "text": [
      "Epoch 1/20\n",
      "1639/1639 [==============================] - 93s 56ms/step - loss: 0.3767 - accuracy: 0.8291 - val_loss: 0.3429 - val_accuracy: 0.8506\n",
      "Epoch 2/20\n",
      "1639/1639 [==============================] - 92s 56ms/step - loss: 0.2896 - accuracy: 0.8764 - val_loss: 0.3219 - val_accuracy: 0.8591\n",
      "Epoch 3/20\n",
      "1639/1639 [==============================] - 99s 60ms/step - loss: 0.2444 - accuracy: 0.8973 - val_loss: 0.3334 - val_accuracy: 0.8577\n",
      "Epoch 4/20\n",
      "1639/1639 [==============================] - 98s 60ms/step - loss: 0.2073 - accuracy: 0.9149 - val_loss: 0.3491 - val_accuracy: 0.8543\n",
      "Epoch 5/20\n",
      "1639/1639 [==============================] - 98s 60ms/step - loss: 0.1704 - accuracy: 0.9317 - val_loss: 0.4205 - val_accuracy: 0.8495\n",
      "Epoch 6/20\n",
      "1639/1639 [==============================] - 98s 60ms/step - loss: 0.1376 - accuracy: 0.9463 - val_loss: 0.4765 - val_accuracy: 0.8471\n",
      "Epoch 6: early stopping\n"
     ]
    }
   ],
   "source": [
    "from keras.callbacks import EarlyStopping\n",
    "\n",
    "model.compile(optimizer='adam', loss='binary_crossentropy', metrics=['accuracy'])\n",
    "    \n",
    "es = EarlyStopping(monitor='val_loss', mode='min', verbose=1, patience=4)\n",
    "\n",
    "epochs=20\n",
    "batch_size=64\n",
    "\n",
    "history = model.fit(\n",
    "    x_train, y_train, epochs=epochs, batch_size=batch_size,\n",
    "    validation_data=(x_val, y_val), callbacks=es, verbose=1)"
   ]
  },
  {
   "cell_type": "code",
   "execution_count": 41,
   "metadata": {},
   "outputs": [
    {
     "name": "stdout",
     "output_type": "stream",
     "text": [
      "820/820 [==============================] - 8s 9ms/step - loss: 0.4630 - accuracy: 0.8510\n"
     ]
    }
   ],
   "source": [
    "result_mecab = model.evaluate(x_test, y_test, verbose=1)"
   ]
  },
  {
   "cell_type": "code",
   "execution_count": 42,
   "metadata": {},
   "outputs": [
    {
     "data": {
      "text/plain": [
       "[0.4629574716091156, 0.8509705066680908]"
      ]
     },
     "execution_count": 42,
     "metadata": {},
     "output_type": "execute_result"
    }
   ],
   "source": [
    "result_mecab"
   ]
  },
  {
   "cell_type": "code",
   "execution_count": null,
   "metadata": {},
   "outputs": [],
   "source": []
  },
  {
   "cell_type": "code",
   "execution_count": null,
   "metadata": {},
   "outputs": [],
   "source": []
  }
 ],
 "metadata": {
  "kernelspec": {
   "display_name": "nlp_tensor",
   "language": "python",
   "name": "python3"
  },
  "language_info": {
   "codemirror_mode": {
    "name": "ipython",
    "version": 3
   },
   "file_extension": ".py",
   "mimetype": "text/x-python",
   "name": "python",
   "nbconvert_exporter": "python",
   "pygments_lexer": "ipython3",
   "version": "3.8.13"
  },
  "orig_nbformat": 4
 },
 "nbformat": 4,
 "nbformat_minor": 2
}
